{
  "nbformat": 4,
  "nbformat_minor": 0,
  "metadata": {
    "colab": {
      "provenance": [],
      "include_colab_link": true
    },
    "kernelspec": {
      "name": "python3",
      "display_name": "Python 3"
    }
  },
  "cells": [
    {
      "cell_type": "markdown",
      "metadata": {
        "id": "view-in-github",
        "colab_type": "text"
      },
      "source": [
        "<a href=\"https://colab.research.google.com/github/mars241/WebScraping/blob/main/AAM_WCS_AFaire_GeoCoding_Nominatim_OSM.ipynb\" target=\"_parent\"><img src=\"https://colab.research.google.com/assets/colab-badge.svg\" alt=\"Open In Colab\"/></a>"
      ]
    },
    {
      "cell_type": "markdown",
      "metadata": {
        "id": "Lq09sQbMUXRG"
      },
      "source": [
        "# Introduction\n",
        "The Nominatim API is a REST API (provided by OpenStreetMap), that returns geographic coordinates (latitude and longitude) from a postal address. If several postal addresses (due to inaccuracy or non-existent street number) corresponding to the request are found, the API returns several coordinates, each time with an `importance` score. The coordinates are given in descending order of importance, so you can select only the first address."
      ]
    },
    {
      "cell_type": "code",
      "metadata": {
        "id": "zzECVow7AfF5"
      },
      "source": [
        "# Execute the code below :\n",
        "\n",
        "import requests\n",
        "link = \"https://nominatim.openstreetmap.org/?q=54+Via+Pietro+Mascagni,Catania,Italy&format=json\"\n",
        "r = requests.get(link).json()\n",
        "r"
      ],
      "execution_count": null,
      "outputs": []
    },
    {
      "cell_type": "code",
      "metadata": {
        "id": "D7YK4RLtYxJP"
      },
      "source": [
        "# Here we select only the first address (index 0)\n",
        "print(\"First address :\", r[0])\n",
        "print(\"First address longitude :\",r[0]['lon'])\n",
        "print(\"First address latitude :\",r[0]['lat'])"
      ],
      "execution_count": null,
      "outputs": []
    },
    {
      "cell_type": "code",
      "metadata": {
        "id": "1n8xgPwnbddp"
      },
      "source": [
        "# For ease of use, you can add a limit on the number of items returned:\n",
        "\n",
        "link = \"https://nominatim.openstreetmap.org/?q=54+Via+Pietro+Mascagni,Catania,Italy&format=json\"\n",
        "r = requests.get(link).json()\n",
        "print(\"WITHOUT limit, how many coordinates does this address return?\",len(r))\n",
        "\n",
        "link = \"https://nominatim.openstreetmap.org/?q=54+Via+Pietro+Mascagni,Catania,Italy&format=json&limit=1\"\n",
        "r = requests.get(link).json()\n",
        "print(\"WITH limit, how many coordinates does this address return?\",len(r))"
      ],
      "execution_count": null,
      "outputs": []
    },
    {
      "cell_type": "markdown",
      "metadata": {
        "id": "PhjWl336aVUm"
      },
      "source": [
        "## How to create your API query\n",
        "It's up to you to modify the string to create the right request URL"
      ]
    },
    {
      "cell_type": "code",
      "metadata": {
        "id": "-_A9JKScWV5I"
      },
      "source": [
        "# We observe that the query consists of a fixed part, followed by the address to be searched for.\n",
        "# An URL cannot contain a \" \" space character,\n",
        "# and special characters or accents should be avoided if possible\n",
        "\n",
        "link_main = 'https://nominatim.openstreetmap.org/?q='\n",
        "address = '54 Via Pietro Mascagni, Catania, Italy'\n",
        "link_end = '&format=json&limit=1'\n",
        "\n",
        "link = link_main + address.replace(# It's your turn here. Your goal is to get a link in the right format\n",
        "\n",
        "print(link + link_end)"
      ],
      "execution_count": null,
      "outputs": []
    },
    {
      "cell_type": "code",
      "metadata": {
        "id": "9gLir_IWdHGz"
      },
      "source": [
        "# Create a function here that turns a postal address into a request URL for the Nominatim API,\n",
        "# then makes the request and returns the coordinates :\n",
        "\n",
        "def API_address(postal_address):\n",
        "\n",
        "\n"
      ],
      "execution_count": null,
      "outputs": []
    },
    {
      "cell_type": "code",
      "metadata": {
        "id": "C0ZQnTyvdY4M"
      },
      "source": [
        "# Test it here:\n",
        "API_address(address)"
      ],
      "execution_count": null,
      "outputs": []
    },
    {
      "cell_type": "markdown",
      "metadata": {
        "id": "rXLrMxFvcFu_"
      },
      "source": [
        "# DataViz\n",
        "Latitude & Longitude can be used on visualization tools, whether they are BI tools (PowerBI, Table), or Python DataViz libraries such as Plotly or Folium.\n",
        "\n",
        "Here we will display a map with Folium.\n"
      ]
    },
    {
      "cell_type": "code",
      "metadata": {
        "id": "969VKpP1fWdJ"
      },
      "source": [
        "# The syntax of Folium is very simple, you start by creating a map centered on a point.\n",
        "# You can change the default zoom level with the argument \"zoom_start\".\n",
        "\n",
        "import folium\n",
        "\n",
        "# We define a location as a list with 2 values : latitude and longitude.\n",
        "point = [float(r[0]['lat']), float(r[0]['lon'])]\n",
        "\n",
        "# We center the map on the location\n",
        "m = folium.Map(location=point,zoom_start=7)\n",
        "\n",
        "# We display the map\n",
        "m"
      ],
      "execution_count": null,
      "outputs": []
    },
    {
      "cell_type": "code",
      "metadata": {
        "id": "eXWTn1mFUKrH"
      },
      "source": [
        "# Then you can add landmarks and put a clickable comment\n",
        "m = folium.Map(location=point, )\n",
        "folium.Marker(\n",
        "    location=point,\n",
        "    popup='a good restaurant'\n",
        "    ).add_to(m)\n",
        "m"
      ],
      "execution_count": null,
      "outputs": []
    },
    {
      "cell_type": "markdown",
      "metadata": {
        "id": "R1xRs4dlgC2-"
      },
      "source": [
        "# Challenge\n",
        "Here is a DataFrame with restaurants in Catania, Sicily, and their respective addresses. Here is your mission:\n",
        "- Create a new column \"coordinates\", which will store the coordinates corresponding to each address (you can use the function you created previously).\n",
        "- Display a map with the 4 restaurant markers. Be careful, the restaurants are very close, remember to set the default zoom level so that it is clearly legible. You can center the map on the first restaurant. And display the name of the restaurant in the tooltip popup."
      ]
    },
    {
      "cell_type": "code",
      "metadata": {
        "id": "J4dQrpdVlzYL"
      },
      "source": [
        "import pandas as pd\n",
        "restaurants = pd.DataFrame([[\"Gelateria Zio Pietro dal 1964\", \"Via Porta di Ferro, 47, 95131 Catania CT\"],\n",
        "                            [\"A Casa d'Amici\",\"Via Fischetti, 14, 95131 Catania CT\"],\n",
        "                            [\"La Bitta\", \"Via Acquicella Porto, 95121 Catania CT\"],\n",
        "                            [\"Steak House\", \"Via Porta di Ferro, 8, 95100 Catania CT\"]\n",
        "                            ],\n",
        "                           columns = [\"name\", \"address\"])\n",
        "\n",
        "restaurants"
      ],
      "execution_count": null,
      "outputs": []
    },
    {
      "cell_type": "markdown",
      "metadata": {
        "id": "5198aDGpHIF2"
      },
      "source": [
        "# Remarks on the Nominatim API\n",
        "As indicated in the quest, there are many resources for geocoding. Most of them are available by registration, and some require a fee.\n",
        "\n",
        "The Nominatim API is free and without registration. The disadvantage is that it is relatively slow. If you need to use it in the future, remember to store the results so you don't have to run it several times.\n",
        "\n",
        "For your knowledge, there is also :\n",
        "- the **reverse** address API, which allows you to find the nearest postal address using geographic coordinates.\n",
        "- the API from a **CSV file** if you have a lot of addresses to geocode\n",
        "- the API **GeoJSON** which allows to obtain a geoJSON format of locations to make choropleth maps\n",
        "\n",
        "\n",
        "All the [documentation is available here](https://nominatim.org/release-docs/develop/api/Search/)."
      ]
    }
  ]
}