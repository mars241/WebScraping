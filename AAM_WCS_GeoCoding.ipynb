{
  "nbformat": 4,
  "nbformat_minor": 0,
  "metadata": {
    "colab": {
      "provenance": [],
      "include_colab_link": true
    },
    "kernelspec": {
      "name": "python3",
      "display_name": "Python 3"
    }
  },
  "cells": [
    {
      "cell_type": "markdown",
      "metadata": {
        "id": "view-in-github",
        "colab_type": "text"
      },
      "source": [
        "<a href=\"https://colab.research.google.com/github/mars241/WebScraping/blob/main/AAM_WCS_GeoCoding.ipynb\" target=\"_parent\"><img src=\"https://colab.research.google.com/assets/colab-badge.svg\" alt=\"Open In Colab\"/></a>"
      ]
    },
    {
      "cell_type": "markdown",
      "metadata": {
        "id": "Lq09sQbMUXRG"
      },
      "source": [
        "# Introduction\n",
        "L'API Adresse est une API REST qui renvoie les coordonnées géographiques (latitude et longitude) à partir d'une adresse postale française.\n",
        "Si plusieurs adresses postales (pour cause d'imprécision ou de numéro de rue inexistant) correspondant à la requête sont trouvées, l'API retourne plusieurs coordonnées, avec à chaque fois un \"score\". Les coordonnées sont données dans l'ordre de score décroissant, vous pouvez donc retenir la première adresse."
      ]
    },
    {
      "cell_type": "code",
      "metadata": {
        "id": "e7dNMdT8WU8h",
        "colab": {
          "base_uri": "https://localhost:8080/"
        },
        "outputId": "84c7add1-144c-4a5b-9b37-862e9d677590"
      },
      "source": [
        "# Exécute le code suivant :\n",
        "import requests\n",
        "link = 'https://api-adresse.data.gouv.fr/search/?q=728+Route+de+Villerest&postcode=42155'\n",
        "r = requests.get(link).json()\n",
        "r"
      ],
      "execution_count": null,
      "outputs": [
        {
          "output_type": "execute_result",
          "data": {
            "text/plain": [
              "{'type': 'FeatureCollection',\n",
              " 'version': 'draft',\n",
              " 'features': [{'type': 'Feature',\n",
              "   'geometry': {'type': 'Point', 'coordinates': [3.993163, 46.00996]},\n",
              "   'properties': {'label': '728 Route de Villerest 42155 Ouches',\n",
              "    'score': 0.951900909090909,\n",
              "    'housenumber': '728',\n",
              "    'id': '42162_0008_00728',\n",
              "    'name': '728 Route de Villerest',\n",
              "    'postcode': '42155',\n",
              "    'citycode': '42162',\n",
              "    'x': 776847.88,\n",
              "    'y': 6546063.21,\n",
              "    'city': 'Ouches',\n",
              "    'context': '42, Loire, Auvergne-Rhône-Alpes',\n",
              "    'type': 'housenumber',\n",
              "    'importance': 0.47091,\n",
              "    'street': 'Route de Villerest'}},\n",
              "  {'type': 'Feature',\n",
              "   'geometry': {'type': 'Point', 'coordinates': [3.992892, 45.993344]},\n",
              "   'properties': {'label': 'Route de Villerest 42155 Lentigny',\n",
              "    'score': 0.7023167532467532,\n",
              "    'id': '42120_0066',\n",
              "    'name': 'Route de Villerest',\n",
              "    'postcode': '42155',\n",
              "    'citycode': '42120',\n",
              "    'x': 776850.11,\n",
              "    'y': 6544217.88,\n",
              "    'city': 'Lentigny',\n",
              "    'context': '42, Loire, Auvergne-Rhône-Alpes',\n",
              "    'type': 'street',\n",
              "    'importance': 0.43977,\n",
              "    'street': 'Route de Villerest'}}],\n",
              " 'attribution': 'BAN',\n",
              " 'licence': 'ETALAB-2.0',\n",
              " 'query': '728 Route de Villerest',\n",
              " 'filters': {'postcode': '42155'},\n",
              " 'limit': 5}"
            ]
          },
          "metadata": {},
          "execution_count": 1
        }
      ]
    },
    {
      "cell_type": "code",
      "metadata": {
        "id": "D7YK4RLtYxJP",
        "colab": {
          "base_uri": "https://localhost:8080/",
          "height": 88
        },
        "outputId": "5f4da7e2-1897-45b6-fa00-ab006a68ece8"
      },
      "source": [
        "# Les coordonnées sont données dans l'ordre longitude puis latitude\n",
        "# Ici nous ne sélectionnons que la première adresse (indice 0)\n",
        "print(\"première adresse :\", r['features'][0])\n",
        "print(\"coordonnées de la première adresse :\",r['features'][0]['geometry']['coordinates'])\n",
        "print(\"score de la première adresse :\",r['features'][0]['properties']['score'])"
      ],
      "execution_count": null,
      "outputs": [
        {
          "output_type": "stream",
          "text": [
            "première adresse : {'type': 'Feature', 'geometry': {'type': 'Point', 'coordinates': [3.993163, 46.00996]}, 'properties': {'label': '728 Route de Villerest 42155 Ouches', 'score': 0.8484396660189927, 'housenumber': '728', 'id': '42162_0008_00728', 'type': 'housenumber', 'x': 776847.88, 'y': 6546063.21, 'importance': 0.33283632620891956, 'name': '728 Route de Villerest', 'postcode': '42155', 'citycode': '42162', 'city': 'Ouches', 'context': '42, Loire, Auvergne-Rhône-Alpes', 'street': 'Route de Villerest'}}\n",
            "coordonnées de la première adresse : [3.993163, 46.00996]\n",
            "coordonnées de la première adresse : 0.8484396660189927\n"
          ],
          "name": "stdout"
        }
      ]
    },
    {
      "cell_type": "code",
      "metadata": {
        "id": "1n8xgPwnbddp",
        "colab": {
          "base_uri": "https://localhost:8080/",
          "height": 51
        },
        "outputId": "2fa65d90-a9cb-4142-ccdc-76531ada105b"
      },
      "source": [
        "# Pour plus de facilité, tu peux ajouter une limite sur le nombre d'éléments retournés\n",
        "\n",
        "link = 'https://api-adresse.data.gouv.fr/search/?q=728+Route+de+Villerest&postcode=42155'\n",
        "r = requests.get(link).json()\n",
        "print(\"SANS limite, cette adresse renvoie combien de coordonnées ?\",len(r['features']))\n",
        "\n",
        "link = 'https://api-adresse.data.gouv.fr/search/?q=728+Route+de+Villerest&postcode=42155&limit=1'\n",
        "r = requests.get(link).json()\n",
        "print(\"AVEC limite, cette adresse renvoie combien de coordonnées ?\",len(r['features']))"
      ],
      "execution_count": null,
      "outputs": [
        {
          "output_type": "stream",
          "text": [
            "SANS limite, cette adresse renvoie combien de coordonnées ? 2\n",
            "AVEC limite, cette adresse renvoie combien de coordonnées ? 1\n"
          ],
          "name": "stdout"
        }
      ]
    },
    {
      "cell_type": "markdown",
      "metadata": {
        "id": "PhjWl336aVUm"
      },
      "source": [
        "## Comment créer sa requête à l'API\n",
        "A toi de modifier la chaine de caractère pour créer la bonne URL de requête"
      ]
    },
    {
      "cell_type": "code",
      "metadata": {
        "id": "-_A9JKScWV5I",
        "colab": {
          "base_uri": "https://localhost:8080/"
        },
        "outputId": "4e578bca-9984-4ecb-e783-5142451852fd"
      },
      "source": [
        "# On observe que la requête se compose d'une partie fixe, suivi de l'adresse à chercher\n",
        "# Une URL ne peut pas comporter de caractère espace \" \", \n",
        "# et il faut éviter si possible d'avoir des caractères spéciaux ou des accents\n",
        "\n",
        "link_main = 'https://api-adresse.data.gouv.fr/search/?q='\n",
        "adresse = '728 Route de Villerest, 42155 Ouches'\n",
        "\n",
        "\n",
        "link = link_main + adresse.replace(\" \", \"+\")\n",
        "\n",
        "print(link)"
      ],
      "execution_count": null,
      "outputs": [
        {
          "output_type": "stream",
          "name": "stdout",
          "text": [
            "https://api-adresse.data.gouv.fr/search/?q=728+Route+de+Villerest,+42155+Ouches\n"
          ]
        }
      ]
    },
    {
      "cell_type": "code",
      "metadata": {
        "id": "9gLir_IWdHGz"
      },
      "source": [
        "# Crée ici une fonction qui transforme une adresse postale en URL de requête pour l'API Adresse, \n",
        "# puis effectue la requête et retourne les coordonnées :\n",
        "\n",
        "def API_adresse(adresse_postale):\n",
        "  link_main = 'https://api-adresse.data.gouv.fr/search/?q='\n",
        "  url = link_main + adresse_postale.replace(\" \", \"+\")\n",
        "  r = requests.get(url)\n",
        "  data = r.json()\n",
        "  latitude = data['features'][0]['geometry']['coordinates'][1] #} <=> pour les 2 colonnes crées (latitude & longitude) à...\n",
        "  longitude = data['features'][0]['geometry']['coordinates'][0] #} <=> ...return r['features'][0]['geometry']['coordinates']\n",
        "  return [latitude, longitude]\n",
        "  \n"
      ],
      "execution_count": null,
      "outputs": []
    },
    {
      "cell_type": "code",
      "metadata": {
        "id": "C0ZQnTyvdY4M",
        "colab": {
          "base_uri": "https://localhost:8080/"
        },
        "outputId": "dd7b7165-0668-484f-c99e-b31c7cc58457"
      },
      "source": [
        "# Teste-là ici :\n",
        "# Adresse de la WCS: \"17 rue delandine 69002 lyon\"\n",
        "API_adresse(\"17 rue delandine 69002 lyon\")"
      ],
      "execution_count": null,
      "outputs": [
        {
          "output_type": "execute_result",
          "data": {
            "text/plain": [
              "[45.746306, 4.826964]"
            ]
          },
          "metadata": {},
          "execution_count": 4
        }
      ]
    },
    {
      "cell_type": "markdown",
      "metadata": {
        "id": "rXLrMxFvcFu_"
      },
      "source": [
        "# DataViz\n",
        "Les coordonnées peuvent être utilisées sur des outils de visualisation, qu'il s'agisse d'outils de BI (PowerBI, Tableau), ou des bibliothèques de DataViz en Python comme Plotly ou Folium.\n",
        "\n",
        "Ici nous allons afficher une carte avec Folium.\n"
      ]
    },
    {
      "cell_type": "code",
      "metadata": {
        "id": "eGPJSG18UFlh",
        "colab": {
          "base_uri": "https://localhost:8080/"
        },
        "outputId": "0861830d-1c7f-4d80-c297-74e05e0da83c"
      },
      "source": [
        "# Attention, le système latin retourne les coordonnées en (longitude, latitude), \n",
        "# Alors que le système anglo-saxon est en (latitude, longitude), il faut donc inverser les coordonnées\n",
        "# Ca tombe bien, vous savez le faire sur une liste avec un \"pas\" de moins un.\n",
        "point = r['features'][0]['geometry']['coordinates'][::-1]\n",
        "point"
      ],
      "execution_count": null,
      "outputs": [
        {
          "output_type": "execute_result",
          "data": {
            "text/plain": [
              "[46.00996, 3.993163]"
            ]
          },
          "metadata": {},
          "execution_count": 5
        }
      ]
    },
    {
      "cell_type": "code",
      "metadata": {
        "id": "969VKpP1fWdJ",
        "colab": {
          "base_uri": "https://localhost:8080/",
          "height": 866
        },
        "outputId": "24b9b5f1-aeb2-43c7-a491-eb56b2dfe96b"
      },
      "source": [
        "# La syntaxe de Folium est très simple, vous commencez par créer une carte centrée sur un point\n",
        "# Vous pouvez modifier le niveau de zoom par défaut avec l'argument \"zoom_start\"\n",
        "import folium\n",
        "m = folium.Map(location=point,zoom_start=7)\n",
        "m"
      ],
      "execution_count": null,
      "outputs": [
        {
          "output_type": "execute_result",
          "data": {
            "text/plain": [
              "<folium.folium.Map at 0x7f7eb83a9a30>"
            ],
            "text/html": [
              "<div style=\"width:100%;\"><div style=\"position:relative;width:100%;height:0;padding-bottom:60%;\"><span style=\"color:#565656\">Make this Notebook Trusted to load map: File -> Trust Notebook</span><iframe srcdoc=\"&lt;!DOCTYPE html&gt;\n",
              "&lt;html&gt;\n",
              "&lt;head&gt;\n",
              "    \n",
              "    &lt;meta http-equiv=&quot;content-type&quot; content=&quot;text/html; charset=UTF-8&quot; /&gt;\n",
              "    \n",
              "        &lt;script&gt;\n",
              "            L_NO_TOUCH = false;\n",
              "            L_DISABLE_3D = false;\n",
              "        &lt;/script&gt;\n",
              "    \n",
              "    &lt;style&gt;html, body {width: 100%;height: 100%;margin: 0;padding: 0;}&lt;/style&gt;\n",
              "    &lt;style&gt;#map {position:absolute;top:0;bottom:0;right:0;left:0;}&lt;/style&gt;\n",
              "    &lt;script src=&quot;https://cdn.jsdelivr.net/npm/leaflet@1.9.3/dist/leaflet.js&quot;&gt;&lt;/script&gt;\n",
              "    &lt;script src=&quot;https://code.jquery.com/jquery-1.12.4.min.js&quot;&gt;&lt;/script&gt;\n",
              "    &lt;script src=&quot;https://cdn.jsdelivr.net/npm/bootstrap@5.2.2/dist/js/bootstrap.bundle.min.js&quot;&gt;&lt;/script&gt;\n",
              "    &lt;script src=&quot;https://cdnjs.cloudflare.com/ajax/libs/Leaflet.awesome-markers/2.0.2/leaflet.awesome-markers.js&quot;&gt;&lt;/script&gt;\n",
              "    &lt;link rel=&quot;stylesheet&quot; href=&quot;https://cdn.jsdelivr.net/npm/leaflet@1.9.3/dist/leaflet.css&quot;/&gt;\n",
              "    &lt;link rel=&quot;stylesheet&quot; href=&quot;https://cdn.jsdelivr.net/npm/bootstrap@5.2.2/dist/css/bootstrap.min.css&quot;/&gt;\n",
              "    &lt;link rel=&quot;stylesheet&quot; href=&quot;https://netdna.bootstrapcdn.com/bootstrap/3.0.0/css/bootstrap.min.css&quot;/&gt;\n",
              "    &lt;link rel=&quot;stylesheet&quot; href=&quot;https://cdn.jsdelivr.net/npm/@fortawesome/fontawesome-free@6.2.0/css/all.min.css&quot;/&gt;\n",
              "    &lt;link rel=&quot;stylesheet&quot; href=&quot;https://cdnjs.cloudflare.com/ajax/libs/Leaflet.awesome-markers/2.0.2/leaflet.awesome-markers.css&quot;/&gt;\n",
              "    &lt;link rel=&quot;stylesheet&quot; href=&quot;https://cdn.jsdelivr.net/gh/python-visualization/folium/folium/templates/leaflet.awesome.rotate.min.css&quot;/&gt;\n",
              "    \n",
              "            &lt;meta name=&quot;viewport&quot; content=&quot;width=device-width,\n",
              "                initial-scale=1.0, maximum-scale=1.0, user-scalable=no&quot; /&gt;\n",
              "            &lt;style&gt;\n",
              "                #map_694727284d99254c4282629a087bf21c {\n",
              "                    position: relative;\n",
              "                    width: 100.0%;\n",
              "                    height: 100.0%;\n",
              "                    left: 0.0%;\n",
              "                    top: 0.0%;\n",
              "                }\n",
              "                .leaflet-container { font-size: 1rem; }\n",
              "            &lt;/style&gt;\n",
              "        \n",
              "&lt;/head&gt;\n",
              "&lt;body&gt;\n",
              "    \n",
              "    \n",
              "            &lt;div class=&quot;folium-map&quot; id=&quot;map_694727284d99254c4282629a087bf21c&quot; &gt;&lt;/div&gt;\n",
              "        \n",
              "&lt;/body&gt;\n",
              "&lt;script&gt;\n",
              "    \n",
              "    \n",
              "            var map_694727284d99254c4282629a087bf21c = L.map(\n",
              "                &quot;map_694727284d99254c4282629a087bf21c&quot;,\n",
              "                {\n",
              "                    center: [46.00996, 3.993163],\n",
              "                    crs: L.CRS.EPSG3857,\n",
              "                    zoom: 7,\n",
              "                    zoomControl: true,\n",
              "                    preferCanvas: false,\n",
              "                }\n",
              "            );\n",
              "\n",
              "            \n",
              "\n",
              "        \n",
              "    \n",
              "            var tile_layer_40333060b1233da30b970c0a9b5b5527 = L.tileLayer(\n",
              "                &quot;https://{s}.tile.openstreetmap.org/{z}/{x}/{y}.png&quot;,\n",
              "                {&quot;attribution&quot;: &quot;Data by \\u0026copy; \\u003ca target=\\&quot;_blank\\&quot; href=\\&quot;http://openstreetmap.org\\&quot;\\u003eOpenStreetMap\\u003c/a\\u003e, under \\u003ca target=\\&quot;_blank\\&quot; href=\\&quot;http://www.openstreetmap.org/copyright\\&quot;\\u003eODbL\\u003c/a\\u003e.&quot;, &quot;detectRetina&quot;: false, &quot;maxNativeZoom&quot;: 18, &quot;maxZoom&quot;: 18, &quot;minZoom&quot;: 0, &quot;noWrap&quot;: false, &quot;opacity&quot;: 1, &quot;subdomains&quot;: &quot;abc&quot;, &quot;tms&quot;: false}\n",
              "            ).addTo(map_694727284d99254c4282629a087bf21c);\n",
              "        \n",
              "&lt;/script&gt;\n",
              "&lt;/html&gt;\" style=\"position:absolute;width:100%;height:100%;left:0;top:0;border:none !important;\" allowfullscreen webkitallowfullscreen mozallowfullscreen></iframe></div></div>"
            ]
          },
          "metadata": {},
          "execution_count": 6
        }
      ]
    },
    {
      "cell_type": "code",
      "metadata": {
        "id": "eXWTn1mFUKrH",
        "colab": {
          "base_uri": "https://localhost:8080/",
          "height": 866
        },
        "outputId": "90e6d6ba-45c8-4e71-b408-2d32ad572a6f"
      },
      "source": [
        "# Puis vous pouvez ajouter des points de repère et mettre un commentaire cliquable\n",
        "m = folium.Map(location=point, )\n",
        "folium.Marker(\n",
        "    location=point,\n",
        "    popup='Un bon restau sur le pouce'\n",
        "    ).add_to(m)\n",
        "m"
      ],
      "execution_count": null,
      "outputs": [
        {
          "output_type": "execute_result",
          "data": {
            "text/plain": [
              "<folium.folium.Map at 0x7f7e8bbf55b0>"
            ],
            "text/html": [
              "<div style=\"width:100%;\"><div style=\"position:relative;width:100%;height:0;padding-bottom:60%;\"><span style=\"color:#565656\">Make this Notebook Trusted to load map: File -> Trust Notebook</span><iframe srcdoc=\"&lt;!DOCTYPE html&gt;\n",
              "&lt;html&gt;\n",
              "&lt;head&gt;\n",
              "    \n",
              "    &lt;meta http-equiv=&quot;content-type&quot; content=&quot;text/html; charset=UTF-8&quot; /&gt;\n",
              "    \n",
              "        &lt;script&gt;\n",
              "            L_NO_TOUCH = false;\n",
              "            L_DISABLE_3D = false;\n",
              "        &lt;/script&gt;\n",
              "    \n",
              "    &lt;style&gt;html, body {width: 100%;height: 100%;margin: 0;padding: 0;}&lt;/style&gt;\n",
              "    &lt;style&gt;#map {position:absolute;top:0;bottom:0;right:0;left:0;}&lt;/style&gt;\n",
              "    &lt;script src=&quot;https://cdn.jsdelivr.net/npm/leaflet@1.9.3/dist/leaflet.js&quot;&gt;&lt;/script&gt;\n",
              "    &lt;script src=&quot;https://code.jquery.com/jquery-1.12.4.min.js&quot;&gt;&lt;/script&gt;\n",
              "    &lt;script src=&quot;https://cdn.jsdelivr.net/npm/bootstrap@5.2.2/dist/js/bootstrap.bundle.min.js&quot;&gt;&lt;/script&gt;\n",
              "    &lt;script src=&quot;https://cdnjs.cloudflare.com/ajax/libs/Leaflet.awesome-markers/2.0.2/leaflet.awesome-markers.js&quot;&gt;&lt;/script&gt;\n",
              "    &lt;link rel=&quot;stylesheet&quot; href=&quot;https://cdn.jsdelivr.net/npm/leaflet@1.9.3/dist/leaflet.css&quot;/&gt;\n",
              "    &lt;link rel=&quot;stylesheet&quot; href=&quot;https://cdn.jsdelivr.net/npm/bootstrap@5.2.2/dist/css/bootstrap.min.css&quot;/&gt;\n",
              "    &lt;link rel=&quot;stylesheet&quot; href=&quot;https://netdna.bootstrapcdn.com/bootstrap/3.0.0/css/bootstrap.min.css&quot;/&gt;\n",
              "    &lt;link rel=&quot;stylesheet&quot; href=&quot;https://cdn.jsdelivr.net/npm/@fortawesome/fontawesome-free@6.2.0/css/all.min.css&quot;/&gt;\n",
              "    &lt;link rel=&quot;stylesheet&quot; href=&quot;https://cdnjs.cloudflare.com/ajax/libs/Leaflet.awesome-markers/2.0.2/leaflet.awesome-markers.css&quot;/&gt;\n",
              "    &lt;link rel=&quot;stylesheet&quot; href=&quot;https://cdn.jsdelivr.net/gh/python-visualization/folium/folium/templates/leaflet.awesome.rotate.min.css&quot;/&gt;\n",
              "    \n",
              "            &lt;meta name=&quot;viewport&quot; content=&quot;width=device-width,\n",
              "                initial-scale=1.0, maximum-scale=1.0, user-scalable=no&quot; /&gt;\n",
              "            &lt;style&gt;\n",
              "                #map_047e83e05baee201dcee0d9686aae014 {\n",
              "                    position: relative;\n",
              "                    width: 100.0%;\n",
              "                    height: 100.0%;\n",
              "                    left: 0.0%;\n",
              "                    top: 0.0%;\n",
              "                }\n",
              "                .leaflet-container { font-size: 1rem; }\n",
              "            &lt;/style&gt;\n",
              "        \n",
              "&lt;/head&gt;\n",
              "&lt;body&gt;\n",
              "    \n",
              "    \n",
              "            &lt;div class=&quot;folium-map&quot; id=&quot;map_047e83e05baee201dcee0d9686aae014&quot; &gt;&lt;/div&gt;\n",
              "        \n",
              "&lt;/body&gt;\n",
              "&lt;script&gt;\n",
              "    \n",
              "    \n",
              "            var map_047e83e05baee201dcee0d9686aae014 = L.map(\n",
              "                &quot;map_047e83e05baee201dcee0d9686aae014&quot;,\n",
              "                {\n",
              "                    center: [46.00996, 3.993163],\n",
              "                    crs: L.CRS.EPSG3857,\n",
              "                    zoom: 10,\n",
              "                    zoomControl: true,\n",
              "                    preferCanvas: false,\n",
              "                }\n",
              "            );\n",
              "\n",
              "            \n",
              "\n",
              "        \n",
              "    \n",
              "            var tile_layer_657fe1f1f0e59841b3cdbf1176e7bfdd = L.tileLayer(\n",
              "                &quot;https://{s}.tile.openstreetmap.org/{z}/{x}/{y}.png&quot;,\n",
              "                {&quot;attribution&quot;: &quot;Data by \\u0026copy; \\u003ca target=\\&quot;_blank\\&quot; href=\\&quot;http://openstreetmap.org\\&quot;\\u003eOpenStreetMap\\u003c/a\\u003e, under \\u003ca target=\\&quot;_blank\\&quot; href=\\&quot;http://www.openstreetmap.org/copyright\\&quot;\\u003eODbL\\u003c/a\\u003e.&quot;, &quot;detectRetina&quot;: false, &quot;maxNativeZoom&quot;: 18, &quot;maxZoom&quot;: 18, &quot;minZoom&quot;: 0, &quot;noWrap&quot;: false, &quot;opacity&quot;: 1, &quot;subdomains&quot;: &quot;abc&quot;, &quot;tms&quot;: false}\n",
              "            ).addTo(map_047e83e05baee201dcee0d9686aae014);\n",
              "        \n",
              "    \n",
              "            var marker_734bc43a7ea17a02677a2def0c41538d = L.marker(\n",
              "                [46.00996, 3.993163],\n",
              "                {}\n",
              "            ).addTo(map_047e83e05baee201dcee0d9686aae014);\n",
              "        \n",
              "    \n",
              "        var popup_b7d2a5eb894d326c7052f6f7dcfeb297 = L.popup({&quot;maxWidth&quot;: &quot;100%&quot;});\n",
              "\n",
              "        \n",
              "            \n",
              "                var html_71e457b106f5cbafbe5a1f0c20ca37d9 = $(`&lt;div id=&quot;html_71e457b106f5cbafbe5a1f0c20ca37d9&quot; style=&quot;width: 100.0%; height: 100.0%;&quot;&gt;Un bon restau sur le pouce&lt;/div&gt;`)[0];\n",
              "                popup_b7d2a5eb894d326c7052f6f7dcfeb297.setContent(html_71e457b106f5cbafbe5a1f0c20ca37d9);\n",
              "            \n",
              "        \n",
              "\n",
              "        marker_734bc43a7ea17a02677a2def0c41538d.bindPopup(popup_b7d2a5eb894d326c7052f6f7dcfeb297)\n",
              "        ;\n",
              "\n",
              "        \n",
              "    \n",
              "&lt;/script&gt;\n",
              "&lt;/html&gt;\" style=\"position:absolute;width:100%;height:100%;left:0;top:0;border:none !important;\" allowfullscreen webkitallowfullscreen mozallowfullscreen></iframe></div></div>"
            ]
          },
          "metadata": {},
          "execution_count": 7
        }
      ]
    },
    {
      "cell_type": "markdown",
      "metadata": {
        "id": "R1xRs4dlgC2-"
      },
      "source": [
        "# Challenge\n",
        "Voici un DataFrame avec des restaurants de Clermont-Ferrand, et leurs adresses respectives. Voici ta mission :\n",
        "- Créer une nouvelle colonne \"coordonnées\", qui stockera les coordonnées correspondant à chaque adresse (tu peux t'aider de la fonction que tu as créée précédemment)\n",
        "- Afficher une carte avec les 4 marqueurs des restaurants. Attention, les restaurants sont très proches, pense à bien régler le niveau de zoom par défaut pour que ce soit bien lisible. Tu peux centrer la carte sur le premier restaurant."
      ]
    },
    {
      "cell_type": "code",
      "metadata": {
        "id": "sHBjenHbCYjh",
        "colab": {
          "base_uri": "https://localhost:8080/",
          "height": 175
        },
        "outputId": "4c3ef0c0-f1b2-42d0-de9f-5d8f67360d1f"
      },
      "source": [
        "import pandas as pd\n",
        "restaurants = pd.DataFrame([[\"Polypode\",\"6 place du Champgil, Clermont-Ferrand, 63000\"],\n",
        "                            [\"Jean-Claude Leclerc\", \"12 rue St-Adjutor, Clermont-Ferrand, 63000\"],\n",
        "                            [\"L'Écureuil\", \"18 rue St-Adjutor, Clermont-Ferrand, 63000\"],\n",
        "                            [\"Le Saint-Eutrope\", \"4 rue St-Eutrope, Clermont-Ferrand, 63000\"]],\n",
        "                           columns = [\"nom\", \"adresse\"])\n",
        "                           \n",
        "restaurants"
      ],
      "execution_count": null,
      "outputs": [
        {
          "output_type": "execute_result",
          "data": {
            "text/plain": [
              "                   nom                                       adresse\n",
              "0             Polypode  6 place du Champgil, Clermont-Ferrand, 63000\n",
              "1  Jean-Claude Leclerc    12 rue St-Adjutor, Clermont-Ferrand, 63000\n",
              "2           L'Écureuil    18 rue St-Adjutor, Clermont-Ferrand, 63000\n",
              "3     Le Saint-Eutrope     4 rue St-Eutrope, Clermont-Ferrand, 63000"
            ],
            "text/html": [
              "\n",
              "  <div id=\"df-8d0971d1-3d83-4f4e-adc5-463c8f6b1891\">\n",
              "    <div class=\"colab-df-container\">\n",
              "      <div>\n",
              "<style scoped>\n",
              "    .dataframe tbody tr th:only-of-type {\n",
              "        vertical-align: middle;\n",
              "    }\n",
              "\n",
              "    .dataframe tbody tr th {\n",
              "        vertical-align: top;\n",
              "    }\n",
              "\n",
              "    .dataframe thead th {\n",
              "        text-align: right;\n",
              "    }\n",
              "</style>\n",
              "<table border=\"1\" class=\"dataframe\">\n",
              "  <thead>\n",
              "    <tr style=\"text-align: right;\">\n",
              "      <th></th>\n",
              "      <th>nom</th>\n",
              "      <th>adresse</th>\n",
              "    </tr>\n",
              "  </thead>\n",
              "  <tbody>\n",
              "    <tr>\n",
              "      <th>0</th>\n",
              "      <td>Polypode</td>\n",
              "      <td>6 place du Champgil, Clermont-Ferrand, 63000</td>\n",
              "    </tr>\n",
              "    <tr>\n",
              "      <th>1</th>\n",
              "      <td>Jean-Claude Leclerc</td>\n",
              "      <td>12 rue St-Adjutor, Clermont-Ferrand, 63000</td>\n",
              "    </tr>\n",
              "    <tr>\n",
              "      <th>2</th>\n",
              "      <td>L'Écureuil</td>\n",
              "      <td>18 rue St-Adjutor, Clermont-Ferrand, 63000</td>\n",
              "    </tr>\n",
              "    <tr>\n",
              "      <th>3</th>\n",
              "      <td>Le Saint-Eutrope</td>\n",
              "      <td>4 rue St-Eutrope, Clermont-Ferrand, 63000</td>\n",
              "    </tr>\n",
              "  </tbody>\n",
              "</table>\n",
              "</div>\n",
              "      <button class=\"colab-df-convert\" onclick=\"convertToInteractive('df-8d0971d1-3d83-4f4e-adc5-463c8f6b1891')\"\n",
              "              title=\"Convert this dataframe to an interactive table.\"\n",
              "              style=\"display:none;\">\n",
              "        \n",
              "  <svg xmlns=\"http://www.w3.org/2000/svg\" height=\"24px\"viewBox=\"0 0 24 24\"\n",
              "       width=\"24px\">\n",
              "    <path d=\"M0 0h24v24H0V0z\" fill=\"none\"/>\n",
              "    <path d=\"M18.56 5.44l.94 2.06.94-2.06 2.06-.94-2.06-.94-.94-2.06-.94 2.06-2.06.94zm-11 1L8.5 8.5l.94-2.06 2.06-.94-2.06-.94L8.5 2.5l-.94 2.06-2.06.94zm10 10l.94 2.06.94-2.06 2.06-.94-2.06-.94-.94-2.06-.94 2.06-2.06.94z\"/><path d=\"M17.41 7.96l-1.37-1.37c-.4-.4-.92-.59-1.43-.59-.52 0-1.04.2-1.43.59L10.3 9.45l-7.72 7.72c-.78.78-.78 2.05 0 2.83L4 21.41c.39.39.9.59 1.41.59.51 0 1.02-.2 1.41-.59l7.78-7.78 2.81-2.81c.8-.78.8-2.07 0-2.86zM5.41 20L4 18.59l7.72-7.72 1.47 1.35L5.41 20z\"/>\n",
              "  </svg>\n",
              "      </button>\n",
              "      \n",
              "  <style>\n",
              "    .colab-df-container {\n",
              "      display:flex;\n",
              "      flex-wrap:wrap;\n",
              "      gap: 12px;\n",
              "    }\n",
              "\n",
              "    .colab-df-convert {\n",
              "      background-color: #E8F0FE;\n",
              "      border: none;\n",
              "      border-radius: 50%;\n",
              "      cursor: pointer;\n",
              "      display: none;\n",
              "      fill: #1967D2;\n",
              "      height: 32px;\n",
              "      padding: 0 0 0 0;\n",
              "      width: 32px;\n",
              "    }\n",
              "\n",
              "    .colab-df-convert:hover {\n",
              "      background-color: #E2EBFA;\n",
              "      box-shadow: 0px 1px 2px rgba(60, 64, 67, 0.3), 0px 1px 3px 1px rgba(60, 64, 67, 0.15);\n",
              "      fill: #174EA6;\n",
              "    }\n",
              "\n",
              "    [theme=dark] .colab-df-convert {\n",
              "      background-color: #3B4455;\n",
              "      fill: #D2E3FC;\n",
              "    }\n",
              "\n",
              "    [theme=dark] .colab-df-convert:hover {\n",
              "      background-color: #434B5C;\n",
              "      box-shadow: 0px 1px 3px 1px rgba(0, 0, 0, 0.15);\n",
              "      filter: drop-shadow(0px 1px 2px rgba(0, 0, 0, 0.3));\n",
              "      fill: #FFFFFF;\n",
              "    }\n",
              "  </style>\n",
              "\n",
              "      <script>\n",
              "        const buttonEl =\n",
              "          document.querySelector('#df-8d0971d1-3d83-4f4e-adc5-463c8f6b1891 button.colab-df-convert');\n",
              "        buttonEl.style.display =\n",
              "          google.colab.kernel.accessAllowed ? 'block' : 'none';\n",
              "\n",
              "        async function convertToInteractive(key) {\n",
              "          const element = document.querySelector('#df-8d0971d1-3d83-4f4e-adc5-463c8f6b1891');\n",
              "          const dataTable =\n",
              "            await google.colab.kernel.invokeFunction('convertToInteractive',\n",
              "                                                     [key], {});\n",
              "          if (!dataTable) return;\n",
              "\n",
              "          const docLinkHtml = 'Like what you see? Visit the ' +\n",
              "            '<a target=\"_blank\" href=https://colab.research.google.com/notebooks/data_table.ipynb>data table notebook</a>'\n",
              "            + ' to learn more about interactive tables.';\n",
              "          element.innerHTML = '';\n",
              "          dataTable['output_type'] = 'display_data';\n",
              "          await google.colab.output.renderOutput(dataTable, element);\n",
              "          const docLink = document.createElement('div');\n",
              "          docLink.innerHTML = docLinkHtml;\n",
              "          element.appendChild(docLink);\n",
              "        }\n",
              "      </script>\n",
              "    </div>\n",
              "  </div>\n",
              "  "
            ]
          },
          "metadata": {},
          "execution_count": 9
        }
      ]
    },
    {
      "cell_type": "code",
      "source": [
        "# Préliminaires:\n",
        "# On change la fonction \"API_adresse\" pour afficher les coordonnées dans le bon sens :\n",
        "\n",
        "def API_adresse(adresse_postale):\n",
        "  link_main = 'https://api-adresse.data.gouv.fr/search/?q='\n",
        "  link = link_main + adresse_postale.replace(\" \", \"+\")\n",
        "  r = requests.get(link).json()\n",
        "  return r['features'][0]['geometry']['coordinates'][::-1]"
      ],
      "metadata": {
        "id": "jiBvwPHarzqT"
      },
      "execution_count": null,
      "outputs": []
    },
    {
      "cell_type": "code",
      "source": [
        "# Ton code ici :\n",
        "# Affichons la Datafram\n",
        "restaurants[\"coordonnées\"] = restaurants[\"adresse\"].apply(API_adresse)\n",
        "restaurants"
      ],
      "metadata": {
        "colab": {
          "base_uri": "https://localhost:8080/",
          "height": 175
        },
        "id": "SerWPl90sSCH",
        "outputId": "fc3d6f85-1cb0-4932-e242-44af06b33ff8"
      },
      "execution_count": null,
      "outputs": [
        {
          "output_type": "execute_result",
          "data": {
            "text/plain": [
              "                   nom                                       adresse  \\\n",
              "0             Polypode  6 place du Champgil, Clermont-Ferrand, 63000   \n",
              "1  Jean-Claude Leclerc    12 rue St-Adjutor, Clermont-Ferrand, 63000   \n",
              "2           L'Écureuil    18 rue St-Adjutor, Clermont-Ferrand, 63000   \n",
              "3     Le Saint-Eutrope     4 rue St-Eutrope, Clermont-Ferrand, 63000   \n",
              "\n",
              "             coordonnées  \n",
              "0  [45.778867, 3.079426]  \n",
              "1  [45.778846, 3.080385]  \n",
              "2      [45.779, 3.08043]  \n",
              "3   [45.781347, 3.08249]  "
            ],
            "text/html": [
              "\n",
              "  <div id=\"df-c49aaf94-c97e-47ef-9af5-011b2ec347b6\">\n",
              "    <div class=\"colab-df-container\">\n",
              "      <div>\n",
              "<style scoped>\n",
              "    .dataframe tbody tr th:only-of-type {\n",
              "        vertical-align: middle;\n",
              "    }\n",
              "\n",
              "    .dataframe tbody tr th {\n",
              "        vertical-align: top;\n",
              "    }\n",
              "\n",
              "    .dataframe thead th {\n",
              "        text-align: right;\n",
              "    }\n",
              "</style>\n",
              "<table border=\"1\" class=\"dataframe\">\n",
              "  <thead>\n",
              "    <tr style=\"text-align: right;\">\n",
              "      <th></th>\n",
              "      <th>nom</th>\n",
              "      <th>adresse</th>\n",
              "      <th>coordonnées</th>\n",
              "    </tr>\n",
              "  </thead>\n",
              "  <tbody>\n",
              "    <tr>\n",
              "      <th>0</th>\n",
              "      <td>Polypode</td>\n",
              "      <td>6 place du Champgil, Clermont-Ferrand, 63000</td>\n",
              "      <td>[45.778867, 3.079426]</td>\n",
              "    </tr>\n",
              "    <tr>\n",
              "      <th>1</th>\n",
              "      <td>Jean-Claude Leclerc</td>\n",
              "      <td>12 rue St-Adjutor, Clermont-Ferrand, 63000</td>\n",
              "      <td>[45.778846, 3.080385]</td>\n",
              "    </tr>\n",
              "    <tr>\n",
              "      <th>2</th>\n",
              "      <td>L'Écureuil</td>\n",
              "      <td>18 rue St-Adjutor, Clermont-Ferrand, 63000</td>\n",
              "      <td>[45.779, 3.08043]</td>\n",
              "    </tr>\n",
              "    <tr>\n",
              "      <th>3</th>\n",
              "      <td>Le Saint-Eutrope</td>\n",
              "      <td>4 rue St-Eutrope, Clermont-Ferrand, 63000</td>\n",
              "      <td>[45.781347, 3.08249]</td>\n",
              "    </tr>\n",
              "  </tbody>\n",
              "</table>\n",
              "</div>\n",
              "      <button class=\"colab-df-convert\" onclick=\"convertToInteractive('df-c49aaf94-c97e-47ef-9af5-011b2ec347b6')\"\n",
              "              title=\"Convert this dataframe to an interactive table.\"\n",
              "              style=\"display:none;\">\n",
              "        \n",
              "  <svg xmlns=\"http://www.w3.org/2000/svg\" height=\"24px\"viewBox=\"0 0 24 24\"\n",
              "       width=\"24px\">\n",
              "    <path d=\"M0 0h24v24H0V0z\" fill=\"none\"/>\n",
              "    <path d=\"M18.56 5.44l.94 2.06.94-2.06 2.06-.94-2.06-.94-.94-2.06-.94 2.06-2.06.94zm-11 1L8.5 8.5l.94-2.06 2.06-.94-2.06-.94L8.5 2.5l-.94 2.06-2.06.94zm10 10l.94 2.06.94-2.06 2.06-.94-2.06-.94-.94-2.06-.94 2.06-2.06.94z\"/><path d=\"M17.41 7.96l-1.37-1.37c-.4-.4-.92-.59-1.43-.59-.52 0-1.04.2-1.43.59L10.3 9.45l-7.72 7.72c-.78.78-.78 2.05 0 2.83L4 21.41c.39.39.9.59 1.41.59.51 0 1.02-.2 1.41-.59l7.78-7.78 2.81-2.81c.8-.78.8-2.07 0-2.86zM5.41 20L4 18.59l7.72-7.72 1.47 1.35L5.41 20z\"/>\n",
              "  </svg>\n",
              "      </button>\n",
              "      \n",
              "  <style>\n",
              "    .colab-df-container {\n",
              "      display:flex;\n",
              "      flex-wrap:wrap;\n",
              "      gap: 12px;\n",
              "    }\n",
              "\n",
              "    .colab-df-convert {\n",
              "      background-color: #E8F0FE;\n",
              "      border: none;\n",
              "      border-radius: 50%;\n",
              "      cursor: pointer;\n",
              "      display: none;\n",
              "      fill: #1967D2;\n",
              "      height: 32px;\n",
              "      padding: 0 0 0 0;\n",
              "      width: 32px;\n",
              "    }\n",
              "\n",
              "    .colab-df-convert:hover {\n",
              "      background-color: #E2EBFA;\n",
              "      box-shadow: 0px 1px 2px rgba(60, 64, 67, 0.3), 0px 1px 3px 1px rgba(60, 64, 67, 0.15);\n",
              "      fill: #174EA6;\n",
              "    }\n",
              "\n",
              "    [theme=dark] .colab-df-convert {\n",
              "      background-color: #3B4455;\n",
              "      fill: #D2E3FC;\n",
              "    }\n",
              "\n",
              "    [theme=dark] .colab-df-convert:hover {\n",
              "      background-color: #434B5C;\n",
              "      box-shadow: 0px 1px 3px 1px rgba(0, 0, 0, 0.15);\n",
              "      filter: drop-shadow(0px 1px 2px rgba(0, 0, 0, 0.3));\n",
              "      fill: #FFFFFF;\n",
              "    }\n",
              "  </style>\n",
              "\n",
              "      <script>\n",
              "        const buttonEl =\n",
              "          document.querySelector('#df-c49aaf94-c97e-47ef-9af5-011b2ec347b6 button.colab-df-convert');\n",
              "        buttonEl.style.display =\n",
              "          google.colab.kernel.accessAllowed ? 'block' : 'none';\n",
              "\n",
              "        async function convertToInteractive(key) {\n",
              "          const element = document.querySelector('#df-c49aaf94-c97e-47ef-9af5-011b2ec347b6');\n",
              "          const dataTable =\n",
              "            await google.colab.kernel.invokeFunction('convertToInteractive',\n",
              "                                                     [key], {});\n",
              "          if (!dataTable) return;\n",
              "\n",
              "          const docLinkHtml = 'Like what you see? Visit the ' +\n",
              "            '<a target=\"_blank\" href=https://colab.research.google.com/notebooks/data_table.ipynb>data table notebook</a>'\n",
              "            + ' to learn more about interactive tables.';\n",
              "          element.innerHTML = '';\n",
              "          dataTable['output_type'] = 'display_data';\n",
              "          await google.colab.output.renderOutput(dataTable, element);\n",
              "          const docLink = document.createElement('div');\n",
              "          docLink.innerHTML = docLinkHtml;\n",
              "          element.appendChild(docLink);\n",
              "        }\n",
              "      </script>\n",
              "    </div>\n",
              "  </div>\n",
              "  "
            ]
          },
          "metadata": {},
          "execution_count": 13
        }
      ]
    },
    {
      "cell_type": "code",
      "source": [
        "# Calcul de la moyenne pour point de départ :\n",
        "\n",
        "lon = []\n",
        "lat = []\n",
        "\n",
        "mean_coordinates = []\n",
        "\n",
        "for i in restaurants[\"coordonnées\"]:\n",
        "  lon.append(i[0])\n",
        "  lat.append(i[1])\n",
        "\n",
        "mean_coordinates.append(sum(lon)/len(lon))\n",
        "mean_coordinates.append(sum(lat)/len(lat))\n",
        "mean_coordinates\n"
      ],
      "metadata": {
        "colab": {
          "base_uri": "https://localhost:8080/"
        },
        "id": "_gDNtXftsyEN",
        "outputId": "9bfe3a33-a068-42fb-8ded-166e43c016a0"
      },
      "execution_count": null,
      "outputs": [
        {
          "output_type": "execute_result",
          "data": {
            "text/plain": [
              "[45.779515, 3.0806827500000002]"
            ]
          },
          "metadata": {},
          "execution_count": 14
        }
      ]
    },
    {
      "cell_type": "code",
      "source": [
        "# Création de la map centrée sur les restos avec la moyenne\n",
        "\n",
        "m = folium.Map(location=mean_coordinates, zoom_start = 17)\n",
        "\n",
        "# Ajout des 4 restaurants\n",
        "\n",
        "for i, j in restaurants[\"coordonnées\"].items():\n",
        "  print(j)\n",
        "  folium.Marker(location=j).add_to(m)\n",
        "  \n",
        "m "
      ],
      "metadata": {
        "colab": {
          "base_uri": "https://localhost:8080/",
          "height": 935
        },
        "id": "bpW4_bn1s9na",
        "outputId": "8d7f024d-a0a3-455a-98e2-c65cb6aac63e"
      },
      "execution_count": null,
      "outputs": [
        {
          "output_type": "stream",
          "name": "stdout",
          "text": [
            "[45.778867, 3.079426]\n",
            "[45.778846, 3.080385]\n",
            "[45.779, 3.08043]\n",
            "[45.781347, 3.08249]\n"
          ]
        },
        {
          "output_type": "execute_result",
          "data": {
            "text/plain": [
              "<folium.folium.Map at 0x7f7e8bc016a0>"
            ],
            "text/html": [
              "<div style=\"width:100%;\"><div style=\"position:relative;width:100%;height:0;padding-bottom:60%;\"><span style=\"color:#565656\">Make this Notebook Trusted to load map: File -> Trust Notebook</span><iframe srcdoc=\"&lt;!DOCTYPE html&gt;\n",
              "&lt;html&gt;\n",
              "&lt;head&gt;\n",
              "    \n",
              "    &lt;meta http-equiv=&quot;content-type&quot; content=&quot;text/html; charset=UTF-8&quot; /&gt;\n",
              "    \n",
              "        &lt;script&gt;\n",
              "            L_NO_TOUCH = false;\n",
              "            L_DISABLE_3D = false;\n",
              "        &lt;/script&gt;\n",
              "    \n",
              "    &lt;style&gt;html, body {width: 100%;height: 100%;margin: 0;padding: 0;}&lt;/style&gt;\n",
              "    &lt;style&gt;#map {position:absolute;top:0;bottom:0;right:0;left:0;}&lt;/style&gt;\n",
              "    &lt;script src=&quot;https://cdn.jsdelivr.net/npm/leaflet@1.9.3/dist/leaflet.js&quot;&gt;&lt;/script&gt;\n",
              "    &lt;script src=&quot;https://code.jquery.com/jquery-1.12.4.min.js&quot;&gt;&lt;/script&gt;\n",
              "    &lt;script src=&quot;https://cdn.jsdelivr.net/npm/bootstrap@5.2.2/dist/js/bootstrap.bundle.min.js&quot;&gt;&lt;/script&gt;\n",
              "    &lt;script src=&quot;https://cdnjs.cloudflare.com/ajax/libs/Leaflet.awesome-markers/2.0.2/leaflet.awesome-markers.js&quot;&gt;&lt;/script&gt;\n",
              "    &lt;link rel=&quot;stylesheet&quot; href=&quot;https://cdn.jsdelivr.net/npm/leaflet@1.9.3/dist/leaflet.css&quot;/&gt;\n",
              "    &lt;link rel=&quot;stylesheet&quot; href=&quot;https://cdn.jsdelivr.net/npm/bootstrap@5.2.2/dist/css/bootstrap.min.css&quot;/&gt;\n",
              "    &lt;link rel=&quot;stylesheet&quot; href=&quot;https://netdna.bootstrapcdn.com/bootstrap/3.0.0/css/bootstrap.min.css&quot;/&gt;\n",
              "    &lt;link rel=&quot;stylesheet&quot; href=&quot;https://cdn.jsdelivr.net/npm/@fortawesome/fontawesome-free@6.2.0/css/all.min.css&quot;/&gt;\n",
              "    &lt;link rel=&quot;stylesheet&quot; href=&quot;https://cdnjs.cloudflare.com/ajax/libs/Leaflet.awesome-markers/2.0.2/leaflet.awesome-markers.css&quot;/&gt;\n",
              "    &lt;link rel=&quot;stylesheet&quot; href=&quot;https://cdn.jsdelivr.net/gh/python-visualization/folium/folium/templates/leaflet.awesome.rotate.min.css&quot;/&gt;\n",
              "    \n",
              "            &lt;meta name=&quot;viewport&quot; content=&quot;width=device-width,\n",
              "                initial-scale=1.0, maximum-scale=1.0, user-scalable=no&quot; /&gt;\n",
              "            &lt;style&gt;\n",
              "                #map_74b49230a99629af62ac0a9a93599922 {\n",
              "                    position: relative;\n",
              "                    width: 100.0%;\n",
              "                    height: 100.0%;\n",
              "                    left: 0.0%;\n",
              "                    top: 0.0%;\n",
              "                }\n",
              "                .leaflet-container { font-size: 1rem; }\n",
              "            &lt;/style&gt;\n",
              "        \n",
              "&lt;/head&gt;\n",
              "&lt;body&gt;\n",
              "    \n",
              "    \n",
              "            &lt;div class=&quot;folium-map&quot; id=&quot;map_74b49230a99629af62ac0a9a93599922&quot; &gt;&lt;/div&gt;\n",
              "        \n",
              "&lt;/body&gt;\n",
              "&lt;script&gt;\n",
              "    \n",
              "    \n",
              "            var map_74b49230a99629af62ac0a9a93599922 = L.map(\n",
              "                &quot;map_74b49230a99629af62ac0a9a93599922&quot;,\n",
              "                {\n",
              "                    center: [45.779515, 3.0806827500000002],\n",
              "                    crs: L.CRS.EPSG3857,\n",
              "                    zoom: 17,\n",
              "                    zoomControl: true,\n",
              "                    preferCanvas: false,\n",
              "                }\n",
              "            );\n",
              "\n",
              "            \n",
              "\n",
              "        \n",
              "    \n",
              "            var tile_layer_ff358c202903ff1521fa679f0f98779d = L.tileLayer(\n",
              "                &quot;https://{s}.tile.openstreetmap.org/{z}/{x}/{y}.png&quot;,\n",
              "                {&quot;attribution&quot;: &quot;Data by \\u0026copy; \\u003ca target=\\&quot;_blank\\&quot; href=\\&quot;http://openstreetmap.org\\&quot;\\u003eOpenStreetMap\\u003c/a\\u003e, under \\u003ca target=\\&quot;_blank\\&quot; href=\\&quot;http://www.openstreetmap.org/copyright\\&quot;\\u003eODbL\\u003c/a\\u003e.&quot;, &quot;detectRetina&quot;: false, &quot;maxNativeZoom&quot;: 18, &quot;maxZoom&quot;: 18, &quot;minZoom&quot;: 0, &quot;noWrap&quot;: false, &quot;opacity&quot;: 1, &quot;subdomains&quot;: &quot;abc&quot;, &quot;tms&quot;: false}\n",
              "            ).addTo(map_74b49230a99629af62ac0a9a93599922);\n",
              "        \n",
              "    \n",
              "            var marker_46a051afaf2b519834fbc4fa555ab316 = L.marker(\n",
              "                [45.778867, 3.079426],\n",
              "                {}\n",
              "            ).addTo(map_74b49230a99629af62ac0a9a93599922);\n",
              "        \n",
              "    \n",
              "            var marker_efedb2a3165d89bd7c004c39124b4697 = L.marker(\n",
              "                [45.778846, 3.080385],\n",
              "                {}\n",
              "            ).addTo(map_74b49230a99629af62ac0a9a93599922);\n",
              "        \n",
              "    \n",
              "            var marker_6bf27fd311f09b16fa4652a233263d97 = L.marker(\n",
              "                [45.779, 3.08043],\n",
              "                {}\n",
              "            ).addTo(map_74b49230a99629af62ac0a9a93599922);\n",
              "        \n",
              "    \n",
              "            var marker_bb01a2d4b052e38bfcf1caaea4c17a85 = L.marker(\n",
              "                [45.781347, 3.08249],\n",
              "                {}\n",
              "            ).addTo(map_74b49230a99629af62ac0a9a93599922);\n",
              "        \n",
              "&lt;/script&gt;\n",
              "&lt;/html&gt;\" style=\"position:absolute;width:100%;height:100%;left:0;top:0;border:none !important;\" allowfullscreen webkitallowfullscreen mozallowfullscreen></iframe></div></div>"
            ]
          },
          "metadata": {},
          "execution_count": 15
        }
      ]
    },
    {
      "cell_type": "markdown",
      "metadata": {
        "id": "5198aDGpHIF2"
      },
      "source": [
        "# Remarques sur l'API Adresse\n",
        "Comme indiqué dans la quête, il existe un grand nombre de ressources permettant de faire du géocodage. La plupart sont sur inscription, et certaines sont payantes.\n",
        "\n",
        "L'API Adresse est gratuite et sans inscription. L'inconvénient est qu'elle est relativement lente. Si tu dois l'utiliser à l'avenir, pense donc à stocker les résultats pour éviter de devoir relancer le traitement plusieurs fois.\n",
        "\n",
        "Pour ta connaissance, il existe également :\n",
        "- l'API Adresse **reverse** qui permet de trouver l'adresse postale la plus proche à partir de coordonnées géographiques\n",
        "- l'API à partir d'un **fichier CSV** si vous avez beaucoup de lignes à géocoder\n",
        "- l'API **découpage administratif** qui permet d'obtenir un format geoJSON des communes et départements pour effectuer des cartes choroplèthes\n",
        "\n",
        "Toutes la [documentation est disponible ici](https://geo.api.gouv.fr/adresse)."
      ]
    }
  ]
}