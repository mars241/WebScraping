{
  "nbformat": 4,
  "nbformat_minor": 0,
  "metadata": {
    "colab": {
      "provenance": [],
      "include_colab_link": true
    },
    "kernelspec": {
      "name": "python3",
      "display_name": "Python 3"
    },
    "language_info": {
      "name": "python"
    }
  },
  "cells": [
    {
      "cell_type": "markdown",
      "metadata": {
        "id": "view-in-github",
        "colab_type": "text"
      },
      "source": [
        "<a href=\"https://colab.research.google.com/github/mars241/WebScraping/blob/main/Corrig%C3%A9_Antonio_043_web_scraping_multi_pages.ipynb\" target=\"_parent\"><img src=\"https://colab.research.google.com/assets/colab-badge.svg\" alt=\"Open In Colab\"/></a>"
      ]
    },
    {
      "cell_type": "code",
      "execution_count": null,
      "metadata": {
        "colab": {
          "base_uri": "https://localhost:8080/",
          "height": 845
        },
        "id": "M9_CptQD_Sdk",
        "outputId": "6d73312a-1d26-4361-882c-63aaf630d177"
      },
      "outputs": [
        {
          "output_type": "display_data",
          "data": {
            "text/plain": [
              "<Figure size 1008x648 with 1 Axes>"
            ],
            "image/png": "[encoded data removed]"
          },
          "metadata": {
            "needs_background": "light"
          }
        },
        {
          "output_type": "stream",
          "name": "stdout",
          "text": [
            "\n",
            "Voici la capture des 5 premieres pages soit 100 blagues :\n",
            "                                                Blague       Note Notenum\n",
            "0   Les ennemis des amis de Chuck Norris sont ses ...  (8.92/10)    8.92\n",
            "1   Un jour Chuck Norris a eu un zero en latin, de...  (8.43/10)    8.43\n",
            "2   L'avenir se demande parfois ce que Chuck Norri...  (8.42/10)    8.42\n",
            "3   Chuck Norris ne sait pas à quoi ressemble Nico...  (8.42/10)    8.42\n",
            "4                                                      (8.42/10)    8.42\n",
            "..                                                ...        ...     ...\n",
            "95  Chuck Norris n'a pas de père... On ne nique pa...  (8.22/10)    8.22\n",
            "96  Si Chuck Norris n'utilise pas l'Oreal, c'est p...  (8.22/10)    8.22\n",
            "97  Chuck Norris a déjà battu la montre dans une c...  (8.22/10)    8.22\n",
            "98  Chuck Norris connait la dernière décimale de P...  (8.22/10)    8.22\n",
            "99  Chuck Norris a fini \"Zelda Ocarina of Time\" pl...  (8.22/10)    8.22\n",
            "\n",
            "[100 rows x 3 columns]\n"
          ]
        }
      ],
      "source": [
        "import pandas as pd\n",
        "import requests\n",
        "from bs4 import BeautifulSoup\n",
        "import matplotlib.pyplot as plt\n",
        "\n",
        "# Pour se connecter comme un navigateur et non pas comme Python :\n",
        "navigator = 'Mozilla/5.0 (Macintosh; Intel Mac OS X 10_10_1)'\n",
        "\n",
        "# Url de la page à scraper :\n",
        "base_url = \"http://www.chucknorrisfacts.fr/facts/top/\"\n",
        "page_nums = [1, 2, 3, 4, 5]\n",
        "\n",
        "# Initialisation du dictionnaire :\n",
        "data = []\n",
        "\n",
        "# Acquisition des données des pages 1 à 5 :\n",
        "for page_num in page_nums:\n",
        "    url = base_url + str(page_num)\n",
        "    response = requests.get(url)\n",
        "    html = requests.get(url, headers={'User-Agent': navigator})\n",
        "    soup = BeautifulSoup(response.content, 'html.parser')\n",
        "\n",
        "    # Trouver les balises particulières :\n",
        "    blagues = soup.find_all('p', {'class': 'card-text'})\n",
        "    notes = soup.find_all('span', {'id': lambda x: x and x.startswith('moyenne_')})\n",
        "\n",
        "    # Création d'une liste de dictionnaires pour stocker les données scraper :\n",
        "    for blague, note in zip(blagues, notes):\n",
        "        data.append({'Blague': blague.get_text(), 'Note': note.get_text()})\n",
        "\n",
        "# Creation du dataframe des 5 premieres pages :\n",
        "df = pd.DataFrame(data)\n",
        "df['Notenum'] = df['Note'].str.slice(1, 5)\n",
        "\n",
        "# Graphique de distribution des notes :\n",
        "fig = plt.figure(figsize=(14, 9))\n",
        "plt.hist(df['Notenum'], bins=10)\n",
        "plt.xlabel('Notes')\n",
        "plt.ylabel('Nbre de blagues')\n",
        "plt.title('Distribution des notes des 5 premieres pages')\n",
        "plt.show()\n",
        "\n",
        "# Affichage du dataframe créé :\n",
        "print(\"\\nVoici la capture des 5 premieres pages soit 100 blagues :\\n\",df)"
      ]
    }
  ]
}