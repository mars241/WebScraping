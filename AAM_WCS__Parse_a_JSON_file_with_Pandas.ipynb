{
  "nbformat": 4,
  "nbformat_minor": 0,
  "metadata": {
    "colab": {
      "provenance": [],
      "authorship_tag": "ABX9TyN0/FxUXAbNKU5wcrj0HvH1",
      "include_colab_link": true
    },
    "kernelspec": {
      "name": "python3",
      "display_name": "Python 3"
    },
    "language_info": {
      "name": "python"
    }
  },
  "cells": [
    {
      "cell_type": "markdown",
      "metadata": {
        "id": "view-in-github",
        "colab_type": "text"
      },
      "source": [
        "<a href=\"https://colab.research.google.com/github/mars241/WebScraping/blob/main/AAM_WCS__Parse_a_JSON_file_with_Pandas.ipynb\" target=\"_parent\"><img src=\"https://colab.research.google.com/assets/colab-badge.svg\" alt=\"Open In Colab\"/></a>"
      ]
    },
    {
      "cell_type": "markdown",
      "source": [
        "#💪Challenge\n",
        "\n",
        "Dans un nouveau notebook, exécute le code ci-dessous :\n",
        "\n",
        "import json\n",
        "\n",
        "import requests\n",
        "\n",
        "link = \"https://raw.githubusercontent.com/WildCodeSchool/java-jsonparse/master/weather.json\"\n",
        "\n",
        "'# This function gets the file content from the URL\n",
        "\n",
        "r = requests.get(link)\n",
        "\n",
        "'# You can access to the text content with this function\n",
        "\n",
        "r.text\n",
        "\n",
        "data = json.loads( r.text)\n",
        "\n",
        "\n",
        "1. Affiche la valeur de l'attribut name\n",
        "\n",
        "2. Affiche les valeurs des attributs lat et lon de l'élément coord contenu dans la racine\n",
        "\n",
        "3. Parcours tous les éléments dans weather et affiche le contenu de main (peut-être avec une boucle ?)\n",
        "\n",
        "Voici le résultat attendu de ces 3 premières questions :\n",
        "\n",
        "* City name: London\n",
        "* City latitude: 51.51\n",
        "* City longitude: -0.13\n",
        "* Weather: Drizzle\n",
        "* Weather: Clear\n",
        "\n",
        "\n",
        "4. Essaye maintenant d'importer ton fichier json dans pandas :\n",
        "\n",
        "'# You can directly read JSON from your request object\n",
        "\n",
        "print(r.json())\n",
        "\n",
        "'# And you can import JSON object to pandas\n",
        "\n",
        "pd.json_normalize(r.json())\n",
        "\n",
        "\n",
        "Tu obtiens un DataFrame avec une seule ligne ? C'est normal, notre fichier JSON contient un premier niveau \"weather\". Nous allons indiquer à Pandas de descendre au niveau inférieur (ici dans l'enregistrement weather). Pour cela, nous utilisons le paramètre record_path. Nous pouvons aussi utiliser le paramètre meta pour indiquer de conserver des éléments d'un niveau supérieur:\n",
        "\n",
        "pd.json_normalize(r.json(),  \n",
        "                  record_path= \"weather\",\n",
        "                  meta = 'dt')\n",
        "\n",
        "\n",
        "5. Filtre maintenant ton DataFrame avec Pandas pour afficher uniquement les colonnes suivantes : main (celui qui est à l'intérieur de weather), name, and visibility.\n",
        "\n",
        "\n",
        "#Critères de validation\n",
        "Le fichier lié est disponible et lisible\n",
        "Toutes les missions sont réalisées"
      ],
      "metadata": {
        "id": "53ukUAibbIhf"
      }
    },
    {
      "cell_type": "code",
      "execution_count": null,
      "metadata": {
        "id": "n_GlatiKaVoQ"
      },
      "outputs": [],
      "source": [
        "import json\n",
        "import requests\n",
        "\n",
        "link = \"https://raw.githubusercontent.com/WildCodeSchool/java-jsonparse/master/weather.json\"\n",
        "\n",
        "# Cette fonction récupère le contenu du fichier à partir de l'URL\n",
        "r = requests.get(link)\n",
        "\n",
        "# Vous pouvez accéder au contenu du texte avec cette fonction\n",
        "r.text\n",
        "\n",
        "data = json.loads( r.text)"
      ]
    },
    {
      "cell_type": "code",
      "source": [
        "# Affichons la data :\n",
        "data"
      ],
      "metadata": {
        "colab": {
          "base_uri": "https://localhost:8080/"
        },
        "id": "ttwbDUJqd5dr",
        "outputId": "4bba6723-ad97-4ca6-ce8b-087dbce06541"
      },
      "execution_count": null,
      "outputs": [
        {
          "output_type": "execute_result",
          "data": {
            "text/plain": [
              "{'coord': {'lon': -0.13, 'lat': 51.51},\n",
              " 'weather': [{'id': 300,\n",
              "   'main': 'Drizzle',\n",
              "   'description': 'light intensity drizzle',\n",
              "   'icon': '09d'},\n",
              "  {'id': 800, 'main': 'Clear', 'description': 'clear sky', 'icon': '01n'}],\n",
              " 'base': 'stations',\n",
              " 'main': {'temp': 280.32,\n",
              "  'pressure': 1012,\n",
              "  'humidity': 81,\n",
              "  'temp_min': 279.15,\n",
              "  'temp_max': 281.15},\n",
              " 'visibility': 10000,\n",
              " 'wind': {'speed': 4.1, 'deg': 80},\n",
              " 'clouds': {'all': 90},\n",
              " 'dt': 1485789600,\n",
              " 'sys': {'type': 1,\n",
              "  'id': 5091,\n",
              "  'message': 0.0103,\n",
              "  'country': 'GB',\n",
              "  'sunrise': 1485762037,\n",
              "  'sunset': 1485794875},\n",
              " 'id': 2643743,\n",
              " 'name': 'London',\n",
              " 'cod': 200}"
            ]
          },
          "metadata": {},
          "execution_count": 3
        }
      ]
    },
    {
      "cell_type": "markdown",
      "source": [
        "1-Affiche la valeur de l'attribut name"
      ],
      "metadata": {
        "id": "tEfr_81ddv-O"
      }
    },
    {
      "cell_type": "code",
      "source": [
        "nom_2_ville = data['name'] # Nommons et affectons l'information à extraire!\n",
        "print(f'Nom de la ville: {nom_2_ville}') # affichons à l'aide du format \" print (f'msg_à_afficher {nom_donné_à_la_variable}) \""
      ],
      "metadata": {
        "colab": {
          "base_uri": "https://localhost:8080/"
        },
        "id": "JTgXlYBRea7L",
        "outputId": "2418b43f-1bce-46bf-cccf-bb7838382069"
      },
      "execution_count": null,
      "outputs": [
        {
          "output_type": "stream",
          "name": "stdout",
          "text": [
            "Nom de la ville: London\n"
          ]
        }
      ]
    },
    {
      "cell_type": "markdown",
      "source": [
        "2-Affiche les valeurs des attributs lat et lon de l'élément coord contenu dans la racine"
      ],
      "metadata": {
        "id": "JTKCWaLhgsXK"
      }
    },
    {
      "cell_type": "code",
      "source": [
        "longitude = data['coord']['lon'] # synthaxe pour accèder à la valeur de la \"long\" & \"lat\" (ici dictionnaire de dictionnaire)\n",
        "latitude = data['coord']['lat']\n",
        "\n",
        "print(f'Coordonnée latitude: {longitude}')\n",
        "print(f'Coordonnée longitude: {latitude}')"
      ],
      "metadata": {
        "colab": {
          "base_uri": "https://localhost:8080/"
        },
        "id": "ce4QsDoOgju0",
        "outputId": "7e7849a2-ad05-43b1-c094-fc26b375b56b"
      },
      "execution_count": null,
      "outputs": [
        {
          "output_type": "stream",
          "name": "stdout",
          "text": [
            "Coordonnée latitude: -0.13\n",
            "Coordonnée longitude: 51.51\n"
          ]
        }
      ]
    },
    {
      "cell_type": "markdown",
      "source": [
        "3-Parcours tous les éléments dans weather et affiche le contenu de main (peut-être avec une boucle ?)"
      ],
      "metadata": {
        "id": "U8V_RiXfh7_M"
      }
    },
    {
      "cell_type": "code",
      "source": [
        "#Affichons le 'root' weather\n",
        "data['weather']"
      ],
      "metadata": {
        "colab": {
          "base_uri": "https://localhost:8080/"
        },
        "id": "OIanSvwljN92",
        "outputId": "c7ef2c73-8309-4199-c0a0-89b76ac749c1"
      },
      "execution_count": null,
      "outputs": [
        {
          "output_type": "execute_result",
          "data": {
            "text/plain": [
              "[{'id': 300,\n",
              "  'main': 'Drizzle',\n",
              "  'description': 'light intensity drizzle',\n",
              "  'icon': '09d'},\n",
              " {'id': 800, 'main': 'Clear', 'description': 'clear sky', 'icon': '01n'}]"
            ]
          },
          "metadata": {},
          "execution_count": 6
        }
      ]
    },
    {
      "cell_type": "code",
      "source": [
        "for elmts_weather in data['weather']:\n",
        "  print(\"les éléments de valeurs 'main' de 'Weather' sont :\",'\\n',  elmts_weather['main'])"
      ],
      "metadata": {
        "colab": {
          "base_uri": "https://localhost:8080/"
        },
        "id": "o0HPLtxriIb8",
        "outputId": "2849fdf5-dde4-42a0-a117-52abb06e677d"
      },
      "execution_count": null,
      "outputs": [
        {
          "output_type": "stream",
          "name": "stdout",
          "text": [
            "les éléments de valeurs 'main' de 'Weather' sont : \n",
            " Drizzle\n",
            "les éléments de valeurs 'main' de 'Weather' sont : \n",
            " Clear\n"
          ]
        }
      ]
    },
    {
      "cell_type": "markdown",
      "source": [
        "4-Essaye maintenant d'importer ton fichier json dans pandas :"
      ],
      "metadata": {
        "id": "eFwbszJKrcmG"
      }
    },
    {
      "cell_type": "code",
      "source": [
        "import pandas as pd\n",
        "\n",
        "# Vous pouvez lire directement JSON à partir de votre objet de requête\n",
        "print(r.json())\n",
        "\n",
        "# Et vous pouvez importer un objet JSON dans pandas\n",
        "data_in_pandas_level1 = pd.json_normalize(r.json())\n",
        "\n",
        "\n",
        "# Affichons la datafram à l'aide de pandas\n",
        "data_in_pandas_level1\n",
        "\n",
        "\n",
        "#On obtient un DataFrame avec une seule ligne ! C'est normal, notre fichier JSON contient un premier niveau \"weather\".\n",
        "#Nous allons indiquer à Pandas de descendre au niveau inférieur (ici dans l'enregistrement weather)."
      ],
      "metadata": {
        "colab": {
          "base_uri": "https://localhost:8080/",
          "height": 147
        },
        "id": "DZCkAqm2rcNS",
        "outputId": "1ccb364c-2453-4f2e-bbf1-5508a13000d9"
      },
      "execution_count": null,
      "outputs": [
        {
          "output_type": "stream",
          "name": "stdout",
          "text": [
            "{'coord': {'lon': -0.13, 'lat': 51.51}, 'weather': [{'id': 300, 'main': 'Drizzle', 'description': 'light intensity drizzle', 'icon': '09d'}, {'id': 800, 'main': 'Clear', 'description': 'clear sky', 'icon': '01n'}], 'base': 'stations', 'main': {'temp': 280.32, 'pressure': 1012, 'humidity': 81, 'temp_min': 279.15, 'temp_max': 281.15}, 'visibility': 10000, 'wind': {'speed': 4.1, 'deg': 80}, 'clouds': {'all': 90}, 'dt': 1485789600, 'sys': {'type': 1, 'id': 5091, 'message': 0.0103, 'country': 'GB', 'sunrise': 1485762037, 'sunset': 1485794875}, 'id': 2643743, 'name': 'London', 'cod': 200}\n"
          ]
        },
        {
          "output_type": "execute_result",
          "data": {
            "text/plain": [
              "                                             weather      base  visibility  \\\n",
              "0  [{'id': 300, 'main': 'Drizzle', 'description':...  stations       10000   \n",
              "\n",
              "           dt       id  ... sys.id  sys.message  sys.country  sys.sunrise  \\\n",
              "0  1485789600  2643743  ...   5091       0.0103           GB   1485762037   \n",
              "\n",
              "   sys.sunset  \n",
              "0  1485794875  \n",
              "\n",
              "[1 rows x 23 columns]"
            ],
            "text/html": [
              "\n",
              "  <div id=\"df-c05f4e0b-daf2-4a25-8a1e-4567260348d8\">\n",
              "    <div class=\"colab-df-container\">\n",
              "      <div>\n",
              "<style scoped>\n",
              "    .dataframe tbody tr th:only-of-type {\n",
              "        vertical-align: middle;\n",
              "    }\n",
              "\n",
              "    .dataframe tbody tr th {\n",
              "        vertical-align: top;\n",
              "    }\n",
              "\n",
              "    .dataframe thead th {\n",
              "        text-align: right;\n",
              "    }\n",
              "</style>\n",
              "<table border=\"1\" class=\"dataframe\">\n",
              "  <thead>\n",
              "    <tr style=\"text-align: right;\">\n",
              "      <th></th>\n",
              "      <th>weather</th>\n",
              "      <th>base</th>\n",
              "      <th>visibility</th>\n",
              "      <th>dt</th>\n",
              "      <th>id</th>\n",
              "      <th>...</th>\n",
              "      <th>sys.id</th>\n",
              "      <th>sys.message</th>\n",
              "      <th>sys.country</th>\n",
              "      <th>sys.sunrise</th>\n",
              "      <th>sys.sunset</th>\n",
              "    </tr>\n",
              "  </thead>\n",
              "  <tbody>\n",
              "    <tr>\n",
              "      <th>0</th>\n",
              "      <td>[{'id': 300, 'main': 'Drizzle', 'description':...</td>\n",
              "      <td>stations</td>\n",
              "      <td>10000</td>\n",
              "      <td>1485789600</td>\n",
              "      <td>2643743</td>\n",
              "      <td>...</td>\n",
              "      <td>5091</td>\n",
              "      <td>0.0103</td>\n",
              "      <td>GB</td>\n",
              "      <td>1485762037</td>\n",
              "      <td>1485794875</td>\n",
              "    </tr>\n",
              "  </tbody>\n",
              "</table>\n",
              "<p>1 rows × 23 columns</p>\n",
              "</div>\n",
              "      <button class=\"colab-df-convert\" onclick=\"convertToInteractive('df-c05f4e0b-daf2-4a25-8a1e-4567260348d8')\"\n",
              "              title=\"Convert this dataframe to an interactive table.\"\n",
              "              style=\"display:none;\">\n",
              "        \n",
              "  <svg xmlns=\"http://www.w3.org/2000/svg\" height=\"24px\"viewBox=\"0 0 24 24\"\n",
              "       width=\"24px\">\n",
              "    <path d=\"M0 0h24v24H0V0z\" fill=\"none\"/>\n",
              "    <path d=\"M18.56 5.44l.94 2.06.94-2.06 2.06-.94-2.06-.94-.94-2.06-.94 2.06-2.06.94zm-11 1L8.5 8.5l.94-2.06 2.06-.94-2.06-.94L8.5 2.5l-.94 2.06-2.06.94zm10 10l.94 2.06.94-2.06 2.06-.94-2.06-.94-.94-2.06-.94 2.06-2.06.94z\"/><path d=\"M17.41 7.96l-1.37-1.37c-.4-.4-.92-.59-1.43-.59-.52 0-1.04.2-1.43.59L10.3 9.45l-7.72 7.72c-.78.78-.78 2.05 0 2.83L4 21.41c.39.39.9.59 1.41.59.51 0 1.02-.2 1.41-.59l7.78-7.78 2.81-2.81c.8-.78.8-2.07 0-2.86zM5.41 20L4 18.59l7.72-7.72 1.47 1.35L5.41 20z\"/>\n",
              "  </svg>\n",
              "      </button>\n",
              "      \n",
              "  <style>\n",
              "    .colab-df-container {\n",
              "      display:flex;\n",
              "      flex-wrap:wrap;\n",
              "      gap: 12px;\n",
              "    }\n",
              "\n",
              "    .colab-df-convert {\n",
              "      background-color: #E8F0FE;\n",
              "      border: none;\n",
              "      border-radius: 50%;\n",
              "      cursor: pointer;\n",
              "      display: none;\n",
              "      fill: #1967D2;\n",
              "      height: 32px;\n",
              "      padding: 0 0 0 0;\n",
              "      width: 32px;\n",
              "    }\n",
              "\n",
              "    .colab-df-convert:hover {\n",
              "      background-color: #E2EBFA;\n",
              "      box-shadow: 0px 1px 2px rgba(60, 64, 67, 0.3), 0px 1px 3px 1px rgba(60, 64, 67, 0.15);\n",
              "      fill: #174EA6;\n",
              "    }\n",
              "\n",
              "    [theme=dark] .colab-df-convert {\n",
              "      background-color: #3B4455;\n",
              "      fill: #D2E3FC;\n",
              "    }\n",
              "\n",
              "    [theme=dark] .colab-df-convert:hover {\n",
              "      background-color: #434B5C;\n",
              "      box-shadow: 0px 1px 3px 1px rgba(0, 0, 0, 0.15);\n",
              "      filter: drop-shadow(0px 1px 2px rgba(0, 0, 0, 0.3));\n",
              "      fill: #FFFFFF;\n",
              "    }\n",
              "  </style>\n",
              "\n",
              "      <script>\n",
              "        const buttonEl =\n",
              "          document.querySelector('#df-c05f4e0b-daf2-4a25-8a1e-4567260348d8 button.colab-df-convert');\n",
              "        buttonEl.style.display =\n",
              "          google.colab.kernel.accessAllowed ? 'block' : 'none';\n",
              "\n",
              "        async function convertToInteractive(key) {\n",
              "          const element = document.querySelector('#df-c05f4e0b-daf2-4a25-8a1e-4567260348d8');\n",
              "          const dataTable =\n",
              "            await google.colab.kernel.invokeFunction('convertToInteractive',\n",
              "                                                     [key], {});\n",
              "          if (!dataTable) return;\n",
              "\n",
              "          const docLinkHtml = 'Like what you see? Visit the ' +\n",
              "            '<a target=\"_blank\" href=https://colab.research.google.com/notebooks/data_table.ipynb>data table notebook</a>'\n",
              "            + ' to learn more about interactive tables.';\n",
              "          element.innerHTML = '';\n",
              "          dataTable['output_type'] = 'display_data';\n",
              "          await google.colab.output.renderOutput(dataTable, element);\n",
              "          const docLink = document.createElement('div');\n",
              "          docLink.innerHTML = docLinkHtml;\n",
              "          element.appendChild(docLink);\n",
              "        }\n",
              "      </script>\n",
              "    </div>\n",
              "  </div>\n",
              "  "
            ]
          },
          "metadata": {},
          "execution_count": 13
        }
      ]
    },
    {
      "cell_type": "code",
      "source": [
        "# Pour descendre au niveau inférieur (ici dans l'enregistrement weather).\n",
        "# Nous utilisons le paramètre record_path. Nous pouvons aussi utiliser le paramètre meta pour indiquer de conserver des éléments d'un niveau supérieur:\n",
        "\n",
        "data_in_pandas_level2 = pd.json_normalize(r.json(),\n",
        "                  record_path= \"weather\",\n",
        "                  meta = ['name','visibility'])\n",
        "\n",
        "# Affichons la datafram à l'aide de pandas\n",
        "data_in_pandas_level2"
      ],
      "metadata": {
        "colab": {
          "base_uri": "https://localhost:8080/",
          "height": 112
        },
        "id": "5TXEP6wHtRNT",
        "outputId": "3bad19d2-f87a-48a7-95b0-4d9d27e9e409"
      },
      "execution_count": null,
      "outputs": [
        {
          "output_type": "execute_result",
          "data": {
            "text/plain": [
              "    id     main              description icon    name visibility\n",
              "0  300  Drizzle  light intensity drizzle  09d  London      10000\n",
              "1  800    Clear                clear sky  01n  London      10000"
            ],
            "text/html": [
              "\n",
              "  <div id=\"df-7af8eabe-9985-470a-8dbd-808f931f8f03\">\n",
              "    <div class=\"colab-df-container\">\n",
              "      <div>\n",
              "<style scoped>\n",
              "    .dataframe tbody tr th:only-of-type {\n",
              "        vertical-align: middle;\n",
              "    }\n",
              "\n",
              "    .dataframe tbody tr th {\n",
              "        vertical-align: top;\n",
              "    }\n",
              "\n",
              "    .dataframe thead th {\n",
              "        text-align: right;\n",
              "    }\n",
              "</style>\n",
              "<table border=\"1\" class=\"dataframe\">\n",
              "  <thead>\n",
              "    <tr style=\"text-align: right;\">\n",
              "      <th></th>\n",
              "      <th>id</th>\n",
              "      <th>main</th>\n",
              "      <th>description</th>\n",
              "      <th>icon</th>\n",
              "      <th>name</th>\n",
              "      <th>visibility</th>\n",
              "    </tr>\n",
              "  </thead>\n",
              "  <tbody>\n",
              "    <tr>\n",
              "      <th>0</th>\n",
              "      <td>300</td>\n",
              "      <td>Drizzle</td>\n",
              "      <td>light intensity drizzle</td>\n",
              "      <td>09d</td>\n",
              "      <td>London</td>\n",
              "      <td>10000</td>\n",
              "    </tr>\n",
              "    <tr>\n",
              "      <th>1</th>\n",
              "      <td>800</td>\n",
              "      <td>Clear</td>\n",
              "      <td>clear sky</td>\n",
              "      <td>01n</td>\n",
              "      <td>London</td>\n",
              "      <td>10000</td>\n",
              "    </tr>\n",
              "  </tbody>\n",
              "</table>\n",
              "</div>\n",
              "      <button class=\"colab-df-convert\" onclick=\"convertToInteractive('df-7af8eabe-9985-470a-8dbd-808f931f8f03')\"\n",
              "              title=\"Convert this dataframe to an interactive table.\"\n",
              "              style=\"display:none;\">\n",
              "        \n",
              "  <svg xmlns=\"http://www.w3.org/2000/svg\" height=\"24px\"viewBox=\"0 0 24 24\"\n",
              "       width=\"24px\">\n",
              "    <path d=\"M0 0h24v24H0V0z\" fill=\"none\"/>\n",
              "    <path d=\"M18.56 5.44l.94 2.06.94-2.06 2.06-.94-2.06-.94-.94-2.06-.94 2.06-2.06.94zm-11 1L8.5 8.5l.94-2.06 2.06-.94-2.06-.94L8.5 2.5l-.94 2.06-2.06.94zm10 10l.94 2.06.94-2.06 2.06-.94-2.06-.94-.94-2.06-.94 2.06-2.06.94z\"/><path d=\"M17.41 7.96l-1.37-1.37c-.4-.4-.92-.59-1.43-.59-.52 0-1.04.2-1.43.59L10.3 9.45l-7.72 7.72c-.78.78-.78 2.05 0 2.83L4 21.41c.39.39.9.59 1.41.59.51 0 1.02-.2 1.41-.59l7.78-7.78 2.81-2.81c.8-.78.8-2.07 0-2.86zM5.41 20L4 18.59l7.72-7.72 1.47 1.35L5.41 20z\"/>\n",
              "  </svg>\n",
              "      </button>\n",
              "      \n",
              "  <style>\n",
              "    .colab-df-container {\n",
              "      display:flex;\n",
              "      flex-wrap:wrap;\n",
              "      gap: 12px;\n",
              "    }\n",
              "\n",
              "    .colab-df-convert {\n",
              "      background-color: #E8F0FE;\n",
              "      border: none;\n",
              "      border-radius: 50%;\n",
              "      cursor: pointer;\n",
              "      display: none;\n",
              "      fill: #1967D2;\n",
              "      height: 32px;\n",
              "      padding: 0 0 0 0;\n",
              "      width: 32px;\n",
              "    }\n",
              "\n",
              "    .colab-df-convert:hover {\n",
              "      background-color: #E2EBFA;\n",
              "      box-shadow: 0px 1px 2px rgba(60, 64, 67, 0.3), 0px 1px 3px 1px rgba(60, 64, 67, 0.15);\n",
              "      fill: #174EA6;\n",
              "    }\n",
              "\n",
              "    [theme=dark] .colab-df-convert {\n",
              "      background-color: #3B4455;\n",
              "      fill: #D2E3FC;\n",
              "    }\n",
              "\n",
              "    [theme=dark] .colab-df-convert:hover {\n",
              "      background-color: #434B5C;\n",
              "      box-shadow: 0px 1px 3px 1px rgba(0, 0, 0, 0.15);\n",
              "      filter: drop-shadow(0px 1px 2px rgba(0, 0, 0, 0.3));\n",
              "      fill: #FFFFFF;\n",
              "    }\n",
              "  </style>\n",
              "\n",
              "      <script>\n",
              "        const buttonEl =\n",
              "          document.querySelector('#df-7af8eabe-9985-470a-8dbd-808f931f8f03 button.colab-df-convert');\n",
              "        buttonEl.style.display =\n",
              "          google.colab.kernel.accessAllowed ? 'block' : 'none';\n",
              "\n",
              "        async function convertToInteractive(key) {\n",
              "          const element = document.querySelector('#df-7af8eabe-9985-470a-8dbd-808f931f8f03');\n",
              "          const dataTable =\n",
              "            await google.colab.kernel.invokeFunction('convertToInteractive',\n",
              "                                                     [key], {});\n",
              "          if (!dataTable) return;\n",
              "\n",
              "          const docLinkHtml = 'Like what you see? Visit the ' +\n",
              "            '<a target=\"_blank\" href=https://colab.research.google.com/notebooks/data_table.ipynb>data table notebook</a>'\n",
              "            + ' to learn more about interactive tables.';\n",
              "          element.innerHTML = '';\n",
              "          dataTable['output_type'] = 'display_data';\n",
              "          await google.colab.output.renderOutput(dataTable, element);\n",
              "          const docLink = document.createElement('div');\n",
              "          docLink.innerHTML = docLinkHtml;\n",
              "          element.appendChild(docLink);\n",
              "        }\n",
              "      </script>\n",
              "    </div>\n",
              "  </div>\n",
              "  "
            ]
          },
          "metadata": {},
          "execution_count": 15
        }
      ]
    },
    {
      "cell_type": "markdown",
      "source": [
        "5-Filtre maintenant ton DataFrame avec Pandas pour afficher uniquement les colonnes suivantes :\n",
        "\n",
        "main (celui qui est à l'intérieur de weather), name, and visibility."
      ],
      "metadata": {
        "id": "I_cll2nHwITC"
      }
    },
    {
      "cell_type": "code",
      "source": [
        "# Pour accèder aux colonnes cibles on fait l'utilisation de la sythaxe : \"data[[colonne1 , colonne2]]\"\n",
        "data_in_pandas_level2[['main','name','visibility']]"
      ],
      "metadata": {
        "colab": {
          "base_uri": "https://localhost:8080/",
          "height": 112
        },
        "id": "7YZ10T3iu6yx",
        "outputId": "6f4332f6-16f2-4be3-f4ed-81f1caee2be2"
      },
      "execution_count": null,
      "outputs": [
        {
          "output_type": "execute_result",
          "data": {
            "text/plain": [
              "      main    name visibility\n",
              "0  Drizzle  London      10000\n",
              "1    Clear  London      10000"
            ],
            "text/html": [
              "\n",
              "  <div id=\"df-3e402cd2-e06b-4c88-8487-d99065a9326a\">\n",
              "    <div class=\"colab-df-container\">\n",
              "      <div>\n",
              "<style scoped>\n",
              "    .dataframe tbody tr th:only-of-type {\n",
              "        vertical-align: middle;\n",
              "    }\n",
              "\n",
              "    .dataframe tbody tr th {\n",
              "        vertical-align: top;\n",
              "    }\n",
              "\n",
              "    .dataframe thead th {\n",
              "        text-align: right;\n",
              "    }\n",
              "</style>\n",
              "<table border=\"1\" class=\"dataframe\">\n",
              "  <thead>\n",
              "    <tr style=\"text-align: right;\">\n",
              "      <th></th>\n",
              "      <th>main</th>\n",
              "      <th>name</th>\n",
              "      <th>visibility</th>\n",
              "    </tr>\n",
              "  </thead>\n",
              "  <tbody>\n",
              "    <tr>\n",
              "      <th>0</th>\n",
              "      <td>Drizzle</td>\n",
              "      <td>London</td>\n",
              "      <td>10000</td>\n",
              "    </tr>\n",
              "    <tr>\n",
              "      <th>1</th>\n",
              "      <td>Clear</td>\n",
              "      <td>London</td>\n",
              "      <td>10000</td>\n",
              "    </tr>\n",
              "  </tbody>\n",
              "</table>\n",
              "</div>\n",
              "      <button class=\"colab-df-convert\" onclick=\"convertToInteractive('df-3e402cd2-e06b-4c88-8487-d99065a9326a')\"\n",
              "              title=\"Convert this dataframe to an interactive table.\"\n",
              "              style=\"display:none;\">\n",
              "        \n",
              "  <svg xmlns=\"http://www.w3.org/2000/svg\" height=\"24px\"viewBox=\"0 0 24 24\"\n",
              "       width=\"24px\">\n",
              "    <path d=\"M0 0h24v24H0V0z\" fill=\"none\"/>\n",
              "    <path d=\"M18.56 5.44l.94 2.06.94-2.06 2.06-.94-2.06-.94-.94-2.06-.94 2.06-2.06.94zm-11 1L8.5 8.5l.94-2.06 2.06-.94-2.06-.94L8.5 2.5l-.94 2.06-2.06.94zm10 10l.94 2.06.94-2.06 2.06-.94-2.06-.94-.94-2.06-.94 2.06-2.06.94z\"/><path d=\"M17.41 7.96l-1.37-1.37c-.4-.4-.92-.59-1.43-.59-.52 0-1.04.2-1.43.59L10.3 9.45l-7.72 7.72c-.78.78-.78 2.05 0 2.83L4 21.41c.39.39.9.59 1.41.59.51 0 1.02-.2 1.41-.59l7.78-7.78 2.81-2.81c.8-.78.8-2.07 0-2.86zM5.41 20L4 18.59l7.72-7.72 1.47 1.35L5.41 20z\"/>\n",
              "  </svg>\n",
              "      </button>\n",
              "      \n",
              "  <style>\n",
              "    .colab-df-container {\n",
              "      display:flex;\n",
              "      flex-wrap:wrap;\n",
              "      gap: 12px;\n",
              "    }\n",
              "\n",
              "    .colab-df-convert {\n",
              "      background-color: #E8F0FE;\n",
              "      border: none;\n",
              "      border-radius: 50%;\n",
              "      cursor: pointer;\n",
              "      display: none;\n",
              "      fill: #1967D2;\n",
              "      height: 32px;\n",
              "      padding: 0 0 0 0;\n",
              "      width: 32px;\n",
              "    }\n",
              "\n",
              "    .colab-df-convert:hover {\n",
              "      background-color: #E2EBFA;\n",
              "      box-shadow: 0px 1px 2px rgba(60, 64, 67, 0.3), 0px 1px 3px 1px rgba(60, 64, 67, 0.15);\n",
              "      fill: #174EA6;\n",
              "    }\n",
              "\n",
              "    [theme=dark] .colab-df-convert {\n",
              "      background-color: #3B4455;\n",
              "      fill: #D2E3FC;\n",
              "    }\n",
              "\n",
              "    [theme=dark] .colab-df-convert:hover {\n",
              "      background-color: #434B5C;\n",
              "      box-shadow: 0px 1px 3px 1px rgba(0, 0, 0, 0.15);\n",
              "      filter: drop-shadow(0px 1px 2px rgba(0, 0, 0, 0.3));\n",
              "      fill: #FFFFFF;\n",
              "    }\n",
              "  </style>\n",
              "\n",
              "      <script>\n",
              "        const buttonEl =\n",
              "          document.querySelector('#df-3e402cd2-e06b-4c88-8487-d99065a9326a button.colab-df-convert');\n",
              "        buttonEl.style.display =\n",
              "          google.colab.kernel.accessAllowed ? 'block' : 'none';\n",
              "\n",
              "        async function convertToInteractive(key) {\n",
              "          const element = document.querySelector('#df-3e402cd2-e06b-4c88-8487-d99065a9326a');\n",
              "          const dataTable =\n",
              "            await google.colab.kernel.invokeFunction('convertToInteractive',\n",
              "                                                     [key], {});\n",
              "          if (!dataTable) return;\n",
              "\n",
              "          const docLinkHtml = 'Like what you see? Visit the ' +\n",
              "            '<a target=\"_blank\" href=https://colab.research.google.com/notebooks/data_table.ipynb>data table notebook</a>'\n",
              "            + ' to learn more about interactive tables.';\n",
              "          element.innerHTML = '';\n",
              "          dataTable['output_type'] = 'display_data';\n",
              "          await google.colab.output.renderOutput(dataTable, element);\n",
              "          const docLink = document.createElement('div');\n",
              "          docLink.innerHTML = docLinkHtml;\n",
              "          element.appendChild(docLink);\n",
              "        }\n",
              "      </script>\n",
              "    </div>\n",
              "  </div>\n",
              "  "
            ]
          },
          "metadata": {},
          "execution_count": 16
        }
      ]
    }
  ]
}