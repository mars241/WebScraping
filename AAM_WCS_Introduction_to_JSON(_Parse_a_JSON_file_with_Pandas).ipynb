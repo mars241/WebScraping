{
  "nbformat": 4,
  "nbformat_minor": 0,
  "metadata": {
    "colab": {
      "provenance": [],
      "include_colab_link": true
    },
    "kernelspec": {
      "name": "python3",
      "display_name": "Python 3"
    }
  },
  "cells": [
    {
      "cell_type": "markdown",
      "metadata": {
        "id": "view-in-github",
        "colab_type": "text"
      },
      "source": [
        "<a href=\"https://colab.research.google.com/github/mars241/WebScrapping/blob/main/AAM_WCS_Introduction_to_JSON(_Parse_a_JSON_file_with_Pandas).ipynb\" target=\"_parent\"><img src=\"https://colab.research.google.com/assets/colab-badge.svg\" alt=\"Open In Colab\"/></a>"
      ]
    },
    {
      "cell_type": "markdown",
      "metadata": {
        "id": "3gy55VJcTu_4"
      },
      "source": [
        "# Reading a JSON\n",
        "\n",
        "Execute the code below :"
      ]
    },
    {
      "cell_type": "code",
      "metadata": {
        "id": "RlpIEaOvTuV2",
        "colab": {
          "base_uri": "https://localhost:8080/",
          "height": 105
        },
        "outputId": "6b45393e-d193-49f3-90bc-9abca7da8336"
      },
      "source": [
        "import json\n",
        "import requests\n",
        "\n",
        "link = \"https://raw.githubusercontent.com/murpi/wilddata/master/quests/monthlySalesbyCategoryMultiple.json\"\n",
        "\n",
        "# This function gets the file content from the URL\n",
        "# Cette fonction récupère le contenu du fichier à partir de l'URL\n",
        "r = requests.get(link)\n",
        "\n",
        "\n",
        "# You can access to the text content with this function\n",
        "# Vous pouvez accéder au contenu du texte avec cette fonction\n",
        "r.text"
      ],
      "execution_count": 1,
      "outputs": [
        {
          "output_type": "execute_result",
          "data": {
            "text/plain": [
              "'{ \"contents\": [\\n  {\\n    \"category\": \"Furniture\",\\n    \"region\": \"West\",\\n    \"monthlySales\":\\n\\n      [{\\n        \"month\":20130101,\\n        \"sales\":38\\n      },\\n      {\\n        \"month\":20130201,\\n        \"sales\":35\\n      },\\n      {\\n        \"month\":20130301,\\n        \"sales\":41\\n      },\\n      {\\n        \"month\":20130401,\\n        \"sales\":55\\n      },\\n      {\\n        \"month\":20130501,\\n        \"sales\":58\\n      },\\n      {\\n        \"month\":20130601,\\n        \"sales\":66\\n      },\\n      {\\n        \"month\":20130701,\\n        \"sales\":74\\n      },\\n      {\\n        \"month\":20130801,\\n        \"sales\":78\\n      },\\n      {\\n        \"month\":20130901,\\n        \"sales\":38\\n      },\\n      {\\n        \"month\":20131001,\\n        \"sales\":30\\n      },\\n      {\\n        \"month\":20131101,\\n        \"sales\":26\\n      },\\n      {\\n        \"month\":20131201,\\n        \"sales\":29\\n      }\\n    ]\\n  },\\n  {\\n    \"category\": \"Technology\",\\n    \"region\": \"West\",\\n    \"monthlySales\":\\n\\n      [{\\n        \"month\":20130101,\\n        \"sales\":54\\n      },\\n      {\\n        \"month\":20130201,\\n        \"sales\":66\\n      },\\n      {\\n        \"month\":20130301,\\n        \"sales\":77\\n      },\\n      {\\n        \"month\":20130401,\\n        \"sales\":70\\n      },\\n      {\\n        \"month\":20130501,\\n        \"sales\":60\\n      },\\n      {\\n        \"month\":20130601,\\n        \"sales\":63\\n      },\\n      {\\n        \"month\":20130701,\\n        \"sales\":55\\n      },\\n      {\\n        \"month\":20130801,\\n        \"sales\":47\\n      },\\n      {\\n        \"month\":20130901,\\n        \"sales\":55\\n      },\\n      {\\n        \"month\":20131001,\\n        \"sales\":30\\n      },\\n      {\\n        \"month\":20131101,\\n        \"sales\":22\\n      },\\n      {\\n        \"month\":20131201,\\n        \"sales\":77\\n      }\\n    ]\\n  }\\n]} \\n'"
            ],
            "application/vnd.google.colaboratory.intrinsic+json": {
              "type": "string"
            }
          },
          "metadata": {},
          "execution_count": 1
        }
      ]
    },
    {
      "cell_type": "code",
      "metadata": {
        "id": "q9YwmpYMTr1n",
        "colab": {
          "base_uri": "https://localhost:8080/"
        },
        "outputId": "2c194858-22e0-4e31-d908-cde1e1a5b7b1"
      },
      "source": [
        "# Try this\n",
        "# Essayez ceci\n",
        "import json\n",
        "\n",
        "data = json.loads( r.text)\n",
        "data"
      ],
      "execution_count": 2,
      "outputs": [
        {
          "output_type": "execute_result",
          "data": {
            "text/plain": [
              "{'contents': [{'category': 'Furniture',\n",
              "   'region': 'West',\n",
              "   'monthlySales': [{'month': 20130101, 'sales': 38},\n",
              "    {'month': 20130201, 'sales': 35},\n",
              "    {'month': 20130301, 'sales': 41},\n",
              "    {'month': 20130401, 'sales': 55},\n",
              "    {'month': 20130501, 'sales': 58},\n",
              "    {'month': 20130601, 'sales': 66},\n",
              "    {'month': 20130701, 'sales': 74},\n",
              "    {'month': 20130801, 'sales': 78},\n",
              "    {'month': 20130901, 'sales': 38},\n",
              "    {'month': 20131001, 'sales': 30},\n",
              "    {'month': 20131101, 'sales': 26},\n",
              "    {'month': 20131201, 'sales': 29}]},\n",
              "  {'category': 'Technology',\n",
              "   'region': 'West',\n",
              "   'monthlySales': [{'month': 20130101, 'sales': 54},\n",
              "    {'month': 20130201, 'sales': 66},\n",
              "    {'month': 20130301, 'sales': 77},\n",
              "    {'month': 20130401, 'sales': 70},\n",
              "    {'month': 20130501, 'sales': 60},\n",
              "    {'month': 20130601, 'sales': 63},\n",
              "    {'month': 20130701, 'sales': 55},\n",
              "    {'month': 20130801, 'sales': 47},\n",
              "    {'month': 20130901, 'sales': 55},\n",
              "    {'month': 20131001, 'sales': 30},\n",
              "    {'month': 20131101, 'sales': 22},\n",
              "    {'month': 20131201, 'sales': 77}]}]}"
            ]
          },
          "metadata": {},
          "execution_count": 2
        }
      ]
    },
    {
      "cell_type": "markdown",
      "metadata": {
        "id": "uogPKCrpZe1s"
      },
      "source": [
        "# Manipulate the data\n",
        "\n",
        "# Manipuler les données"
      ]
    },
    {
      "cell_type": "markdown",
      "metadata": {
        "id": "r1hWtHV3Yj0r"
      },
      "source": [
        "Now print for each category their total number of sales (without using a dataframe, just manipulating the dictionaries and lists).\n",
        "\n",
        "Expected result:\n",
        "- Furniture 568\n",
        "- Technology 676\n",
        "\n",
        "Imprimez maintenant pour chaque catégorie le nombre total de ventes (sans utiliser de dataframe, en manipulant simplement les dictionnaires et les listes).\n",
        "\n",
        "Résultat attendu :\n",
        "- Meubles 568\n",
        "- Technologie 676\n"
      ]
    },
    {
      "cell_type": "code",
      "source": [
        "# Préliminaires (c'est pas l'objet ici!) Mais Visualisons les informations à requéter :\n",
        "import pandas as pd\n",
        "data\n",
        "\n",
        "# la visualisation reste en cascade car JSON c'est un fichier hièrachique !"
      ],
      "metadata": {
        "colab": {
          "base_uri": "https://localhost:8080/"
        },
        "id": "3NCH-1souSQZ",
        "outputId": "0634f7bd-4c93-4db5-f76a-7aa5075ee192"
      },
      "execution_count": 3,
      "outputs": [
        {
          "output_type": "execute_result",
          "data": {
            "text/plain": [
              "{'contents': [{'category': 'Furniture',\n",
              "   'region': 'West',\n",
              "   'monthlySales': [{'month': 20130101, 'sales': 38},\n",
              "    {'month': 20130201, 'sales': 35},\n",
              "    {'month': 20130301, 'sales': 41},\n",
              "    {'month': 20130401, 'sales': 55},\n",
              "    {'month': 20130501, 'sales': 58},\n",
              "    {'month': 20130601, 'sales': 66},\n",
              "    {'month': 20130701, 'sales': 74},\n",
              "    {'month': 20130801, 'sales': 78},\n",
              "    {'month': 20130901, 'sales': 38},\n",
              "    {'month': 20131001, 'sales': 30},\n",
              "    {'month': 20131101, 'sales': 26},\n",
              "    {'month': 20131201, 'sales': 29}]},\n",
              "  {'category': 'Technology',\n",
              "   'region': 'West',\n",
              "   'monthlySales': [{'month': 20130101, 'sales': 54},\n",
              "    {'month': 20130201, 'sales': 66},\n",
              "    {'month': 20130301, 'sales': 77},\n",
              "    {'month': 20130401, 'sales': 70},\n",
              "    {'month': 20130501, 'sales': 60},\n",
              "    {'month': 20130601, 'sales': 63},\n",
              "    {'month': 20130701, 'sales': 55},\n",
              "    {'month': 20130801, 'sales': 47},\n",
              "    {'month': 20130901, 'sales': 55},\n",
              "    {'month': 20131001, 'sales': 30},\n",
              "    {'month': 20131101, 'sales': 22},\n",
              "    {'month': 20131201, 'sales': 77}]}]}"
            ]
          },
          "metadata": {},
          "execution_count": 3
        }
      ]
    },
    {
      "cell_type": "code",
      "metadata": {
        "id": "SI-uCLddYWpk",
        "colab": {
          "base_uri": "https://localhost:8080/"
        },
        "outputId": "972a0ced-7c8a-421e-ab33-7e727be3703a"
      },
      "source": [
        "# On cherche ici la(es) clé(s) et la(es) valeur(s) corespondante(s) parcourant la liste d'attributs en agrègeant la somme\n",
        "for staff_articles in data['contents']: # la variable \"staff_articles\" est défine lors de sa déclaration/affectation ; \"Contents\" est le 1er root(racine)\n",
        "  category = staff_articles['category'] # \"Category\" est le parent node des roots, on extrait simplement ici!\n",
        "  sales = sum([sale['sales'] for sale in staff_articles['monthlySales']]) # On ré-définie sales en le cumulant\n",
        "  print(category, sales)"
      ],
      "execution_count": 4,
      "outputs": [
        {
          "output_type": "stream",
          "name": "stdout",
          "text": [
            "Furniture 568\n",
            "Technology 676\n"
          ]
        }
      ]
    }
  ]
}